{
 "cells": [
  {
   "cell_type": "markdown",
   "metadata": {},
   "source": [
    "## Project: BASEBALL DATA ANALYSIS\n",
    "### By: Chaitanya Narayanavaram"
   ]
  },
  {
   "cell_type": "markdown",
   "metadata": {},
   "source": [
    "In this project, I am going to analyze data from the Baseball Data Bank, to come up with usefull statistics that will help us get a better look at the performances of Teams, Players and Managers.\n",
    "In each analysis below, first I have posed a question about the data, then I have analyzed the data using Python libraries- Numpy, Pandas, Seaborn, Matplotlib to find an answer to the posed question. I have used graphs to display the resuts in some analyses, to get a better look at the performances."
   ]
  },
  {
   "cell_type": "markdown",
   "metadata": {},
   "source": [
    "First I will import all the libraries I will use in this project below, so that I need not worry about importing them while working through the project."
   ]
  },
  {
   "cell_type": "code",
   "execution_count": 113,
   "metadata": {
    "collapsed": true
   },
   "outputs": [],
   "source": [
    "import pandas as pd\n",
    "import numpy as np\n",
    "import matplotlib.pyplot as plt\n",
    "import seaborn as sns\n",
    "%matplotlib inline"
   ]
  },
  {
   "cell_type": "markdown",
   "metadata": {},
   "source": [
    "### Analysis 1:\n",
    "Question: Which Baseball Team performed the best in the East Division?\n",
    "\n",
    "Assumptions: Team performance in this analysis is measured in terms of \"Mean Rank\" in these years. \n"
   ]
  },
  {
   "cell_type": "code",
   "execution_count": 114,
   "metadata": {
    "collapsed": true
   },
   "outputs": [],
   "source": [
    "# Data Wrangling: To read the contents of csv into dataframe\n",
    "teams_df = pd.read_csv('Teams.csv')\n",
    "east_division = teams_df.query('divID == \"E\"')"
   ]
  },
  {
   "cell_type": "markdown",
   "metadata": {},
   "source": [
    "First, lets explore the data in our dataframe"
   ]
  },
  {
   "cell_type": "code",
   "execution_count": 115,
   "metadata": {
    "collapsed": false
   },
   "outputs": [
    {
     "data": {
      "text/html": [
       "<div>\n",
       "<table border=\"1\" class=\"dataframe\">\n",
       "  <thead>\n",
       "    <tr style=\"text-align: right;\">\n",
       "      <th></th>\n",
       "      <th>yearID</th>\n",
       "      <th>lgID</th>\n",
       "      <th>teamID</th>\n",
       "      <th>franchID</th>\n",
       "      <th>divID</th>\n",
       "      <th>Rank</th>\n",
       "      <th>G</th>\n",
       "      <th>Ghome</th>\n",
       "      <th>W</th>\n",
       "      <th>L</th>\n",
       "      <th>...</th>\n",
       "      <th>DP</th>\n",
       "      <th>FP</th>\n",
       "      <th>name</th>\n",
       "      <th>park</th>\n",
       "      <th>attendance</th>\n",
       "      <th>BPF</th>\n",
       "      <th>PPF</th>\n",
       "      <th>teamIDBR</th>\n",
       "      <th>teamIDlahman45</th>\n",
       "      <th>teamIDretro</th>\n",
       "    </tr>\n",
       "  </thead>\n",
       "  <tbody>\n",
       "    <tr>\n",
       "      <th>1518</th>\n",
       "      <td>1969</td>\n",
       "      <td>AL</td>\n",
       "      <td>BAL</td>\n",
       "      <td>BAL</td>\n",
       "      <td>E</td>\n",
       "      <td>1</td>\n",
       "      <td>162</td>\n",
       "      <td>81.0</td>\n",
       "      <td>109</td>\n",
       "      <td>53</td>\n",
       "      <td>...</td>\n",
       "      <td>145.0</td>\n",
       "      <td>0.984</td>\n",
       "      <td>Baltimore Orioles</td>\n",
       "      <td>Memorial Stadium</td>\n",
       "      <td>1062069.0</td>\n",
       "      <td>101</td>\n",
       "      <td>99</td>\n",
       "      <td>BAL</td>\n",
       "      <td>BAL</td>\n",
       "      <td>BAL</td>\n",
       "    </tr>\n",
       "    <tr>\n",
       "      <th>1519</th>\n",
       "      <td>1969</td>\n",
       "      <td>AL</td>\n",
       "      <td>BOS</td>\n",
       "      <td>BOS</td>\n",
       "      <td>E</td>\n",
       "      <td>3</td>\n",
       "      <td>162</td>\n",
       "      <td>81.0</td>\n",
       "      <td>87</td>\n",
       "      <td>75</td>\n",
       "      <td>...</td>\n",
       "      <td>178.0</td>\n",
       "      <td>0.975</td>\n",
       "      <td>Boston Red Sox</td>\n",
       "      <td>Fenway Park II</td>\n",
       "      <td>1833246.0</td>\n",
       "      <td>107</td>\n",
       "      <td>106</td>\n",
       "      <td>BOS</td>\n",
       "      <td>BOS</td>\n",
       "      <td>BOS</td>\n",
       "    </tr>\n",
       "    <tr>\n",
       "      <th>1522</th>\n",
       "      <td>1969</td>\n",
       "      <td>NL</td>\n",
       "      <td>CHN</td>\n",
       "      <td>CHC</td>\n",
       "      <td>E</td>\n",
       "      <td>2</td>\n",
       "      <td>163</td>\n",
       "      <td>82.0</td>\n",
       "      <td>92</td>\n",
       "      <td>70</td>\n",
       "      <td>...</td>\n",
       "      <td>149.0</td>\n",
       "      <td>0.979</td>\n",
       "      <td>Chicago Cubs</td>\n",
       "      <td>Wrigley Field</td>\n",
       "      <td>1674993.0</td>\n",
       "      <td>113</td>\n",
       "      <td>112</td>\n",
       "      <td>CHC</td>\n",
       "      <td>CHN</td>\n",
       "      <td>CHN</td>\n",
       "    </tr>\n",
       "    <tr>\n",
       "      <th>1524</th>\n",
       "      <td>1969</td>\n",
       "      <td>AL</td>\n",
       "      <td>CLE</td>\n",
       "      <td>CLE</td>\n",
       "      <td>E</td>\n",
       "      <td>6</td>\n",
       "      <td>161</td>\n",
       "      <td>81.0</td>\n",
       "      <td>62</td>\n",
       "      <td>99</td>\n",
       "      <td>...</td>\n",
       "      <td>153.0</td>\n",
       "      <td>0.976</td>\n",
       "      <td>Cleveland Indians</td>\n",
       "      <td>Cleveland Stadium</td>\n",
       "      <td>619970.0</td>\n",
       "      <td>103</td>\n",
       "      <td>103</td>\n",
       "      <td>CLE</td>\n",
       "      <td>CLE</td>\n",
       "      <td>CLE</td>\n",
       "    </tr>\n",
       "    <tr>\n",
       "      <th>1525</th>\n",
       "      <td>1969</td>\n",
       "      <td>AL</td>\n",
       "      <td>DET</td>\n",
       "      <td>DET</td>\n",
       "      <td>E</td>\n",
       "      <td>2</td>\n",
       "      <td>162</td>\n",
       "      <td>81.0</td>\n",
       "      <td>90</td>\n",
       "      <td>72</td>\n",
       "      <td>...</td>\n",
       "      <td>130.0</td>\n",
       "      <td>0.979</td>\n",
       "      <td>Detroit Tigers</td>\n",
       "      <td>Tiger Stadium</td>\n",
       "      <td>1577481.0</td>\n",
       "      <td>105</td>\n",
       "      <td>104</td>\n",
       "      <td>DET</td>\n",
       "      <td>DET</td>\n",
       "      <td>DET</td>\n",
       "    </tr>\n",
       "  </tbody>\n",
       "</table>\n",
       "<p>5 rows × 48 columns</p>\n",
       "</div>"
      ],
      "text/plain": [
       "      yearID lgID teamID franchID divID  Rank    G  Ghome    W   L  \\\n",
       "1518    1969   AL    BAL      BAL     E     1  162   81.0  109  53   \n",
       "1519    1969   AL    BOS      BOS     E     3  162   81.0   87  75   \n",
       "1522    1969   NL    CHN      CHC     E     2  163   82.0   92  70   \n",
       "1524    1969   AL    CLE      CLE     E     6  161   81.0   62  99   \n",
       "1525    1969   AL    DET      DET     E     2  162   81.0   90  72   \n",
       "\n",
       "         ...          DP     FP               name               park  \\\n",
       "1518     ...       145.0  0.984  Baltimore Orioles   Memorial Stadium   \n",
       "1519     ...       178.0  0.975     Boston Red Sox     Fenway Park II   \n",
       "1522     ...       149.0  0.979       Chicago Cubs      Wrigley Field   \n",
       "1524     ...       153.0  0.976  Cleveland Indians  Cleveland Stadium   \n",
       "1525     ...       130.0  0.979     Detroit Tigers      Tiger Stadium   \n",
       "\n",
       "      attendance  BPF  PPF  teamIDBR  teamIDlahman45  teamIDretro  \n",
       "1518   1062069.0  101   99       BAL             BAL          BAL  \n",
       "1519   1833246.0  107  106       BOS             BOS          BOS  \n",
       "1522   1674993.0  113  112       CHC             CHN          CHN  \n",
       "1524    619970.0  103  103       CLE             CLE          CLE  \n",
       "1525   1577481.0  105  104       DET             DET          DET  \n",
       "\n",
       "[5 rows x 48 columns]"
      ]
     },
     "execution_count": 115,
     "metadata": {},
     "output_type": "execute_result"
    }
   ],
   "source": [
    "# Exploring the data\n",
    "east_division.head()"
   ]
  },
  {
   "cell_type": "code",
   "execution_count": 116,
   "metadata": {
    "collapsed": false
   },
   "outputs": [
    {
     "data": {
      "text/plain": [
       "<matplotlib.text.Text at 0x15e2ff98>"
      ]
     },
     "execution_count": 116,
     "metadata": {},
     "output_type": "execute_result"
    },
    {
     "data": {
      "image/png": "[encoded data removed]",
      "text/plain": [
       "<matplotlib.figure.Figure at 0x15f1a9e8>"
      ]
     },
     "metadata": {},
     "output_type": "display_data"
    }
   ],
   "source": [
    "# Histogram of hits by batters:\n",
    "plt.hist(east_division.H.dropna())\n",
    "plt.xlabel(\"Number of Hits\")\n",
    "plt.ylabel(\"Frequency\")\n",
    "plt.title(\"Histogram of Number of Hits\")"
   ]
  },
  {
   "cell_type": "code",
   "execution_count": 117,
   "metadata": {
    "collapsed": false
   },
   "outputs": [
    {
     "data": {
      "text/plain": [
       "count     548.000000\n",
       "mean     1414.401460\n",
       "std       127.712898\n",
       "min       797.000000\n",
       "25%      1361.000000\n",
       "50%      1425.500000\n",
       "75%      1492.000000\n",
       "max      1684.000000\n",
       "Name: H, dtype: float64"
      ]
     },
     "execution_count": 117,
     "metadata": {},
     "output_type": "execute_result"
    }
   ],
   "source": [
    "east_division.H.describe()"
   ]
  },
  {
   "cell_type": "markdown",
   "metadata": {},
   "source": [
    "Description: The above histogram of hits by batters shows that this distribution is negatively skewed with mean = 1414.4, max = 1684, min = 797."
   ]
  },
  {
   "cell_type": "code",
   "execution_count": 118,
   "metadata": {
    "collapsed": false
   },
   "outputs": [
    {
     "data": {
      "text/plain": [
       "<matplotlib.text.Text at 0x16154828>"
      ]
     },
     "execution_count": 118,
     "metadata": {},
     "output_type": "execute_result"
    },
    {
     "data": {
      "image/png": "[encoded data removed]",
      "text/plain": [
       "<matplotlib.figure.Figure at 0x15e14748>"
      ]
     },
     "metadata": {},
     "output_type": "display_data"
    }
   ],
   "source": [
    "# Histogram of runs scored by batters:\n",
    "plt.hist(east_division.R.dropna(), 10)\n",
    "plt.xlabel(\"Number of Runs Scored\")\n",
    "plt.ylabel(\"Frequency\")\n",
    "plt.title(\"Histogram of Number of Runs Scored\")"
   ]
  },
  {
   "cell_type": "code",
   "execution_count": 119,
   "metadata": {
    "collapsed": false
   },
   "outputs": [
    {
     "data": {
      "text/plain": [
       "count    548.000000\n",
       "mean     707.452555\n",
       "std       99.538200\n",
       "min      329.000000\n",
       "25%      645.750000\n",
       "50%      707.500000\n",
       "75%      772.000000\n",
       "max      968.000000\n",
       "Name: R, dtype: float64"
      ]
     },
     "execution_count": 119,
     "metadata": {},
     "output_type": "execute_result"
    }
   ],
   "source": [
    "east_division.R.describe()"
   ]
  },
  {
   "cell_type": "markdown",
   "metadata": {},
   "source": [
    "Description: The above histogram of Runs scored by players shows that the distribution is slightly negatively skewed, with mean=707.45, min=329, max=968."
   ]
  },
  {
   "cell_type": "code",
   "execution_count": 120,
   "metadata": {
    "collapsed": false
   },
   "outputs": [
    {
     "data": {
      "text/plain": [
       "[<matplotlib.text.Text at 0x16267e48>, <matplotlib.text.Text at 0x16448668>]"
      ]
     },
     "execution_count": 120,
     "metadata": {},
     "output_type": "execute_result"
    },
    {
     "data": {
      "image/png": "[encoded data removed]",
      "text/plain": [
       "<matplotlib.figure.Figure at 0x163b1588>"
      ]
     },
     "metadata": {},
     "output_type": "display_data"
    }
   ],
   "source": [
    "# Box plot of wins column:\n",
    "fig = sns.boxplot(east_division.W.dropna())\n",
    "fig.set(xlabel = 'Number of Wins', title = 'Box Plot for Number of Wins')"
   ]
  },
  {
   "cell_type": "markdown",
   "metadata": {},
   "source": [
    "Description: This boxplot of Wins by teams shows the variation of data in the 'Wins' column of our dataframe. We can observe that the approximate values of:\n",
    "maximum = 115, third quartile = 89, median = 82, first quartile = 71, minimum = 47. We can also see 3 outliers below the minimum value.\n",
    "Similarly, below is the boxplot for the 'Loss' column:"
   ]
  },
  {
   "cell_type": "code",
   "execution_count": 121,
   "metadata": {
    "collapsed": false
   },
   "outputs": [
    {
     "data": {
      "text/plain": [
       "[<matplotlib.text.Text at 0x1a409550>, <matplotlib.text.Text at 0x1a52ecc0>]"
      ]
     },
     "execution_count": 121,
     "metadata": {},
     "output_type": "execute_result"
    },
    {
     "data": {
      "image/png": "[encoded data removed]",
      "text/plain": [
       "<matplotlib.figure.Figure at 0x164f0da0>"
      ]
     },
     "metadata": {},
     "output_type": "display_data"
    }
   ],
   "source": [
    "# Box plot for loss:\n",
    "fig = sns.boxplot(east_division.L.dropna())\n",
    "fig.set(xlabel = 'Number of Losses', title = 'Box Plot for Number of Losses')"
   ]
  },
  {
   "cell_type": "markdown",
   "metadata": {},
   "source": [
    "Description: The boxplot above shows the variation of data in the Losses column of our Dataframe. We can see that the max = 110, min = 46, median = 79, First quartile = 70, Third quartile = 88. We can also see 2 outliers below the minimum value."
   ]
  },
  {
   "cell_type": "markdown",
   "metadata": {},
   "source": [
    "Now, Lets check for missing values in our dataframe:"
   ]
  },
  {
   "cell_type": "code",
   "execution_count": 122,
   "metadata": {
    "collapsed": false
   },
   "outputs": [
    {
     "name": "stdout",
     "output_type": "stream",
     "text": [
      "<class 'pandas.core.frame.DataFrame'>\n",
      "Int64Index: 548 entries, 1518 to 2834\n",
      "Data columns (total 48 columns):\n",
      "yearID            548 non-null int64\n",
      "lgID              548 non-null object\n",
      "teamID            548 non-null object\n",
      "franchID          548 non-null object\n",
      "divID             548 non-null object\n",
      "Rank              548 non-null int64\n",
      "G                 548 non-null int64\n",
      "Ghome             548 non-null float64\n",
      "W                 548 non-null int64\n",
      "L                 548 non-null int64\n",
      "DivWin            538 non-null object\n",
      "WCWin             220 non-null object\n",
      "LgWin             538 non-null object\n",
      "WSWin             538 non-null object\n",
      "R                 548 non-null int64\n",
      "AB                548 non-null int64\n",
      "H                 548 non-null int64\n",
      "2B                548 non-null int64\n",
      "3B                548 non-null int64\n",
      "HR                548 non-null int64\n",
      "BB                548 non-null int64\n",
      "SO                548 non-null float64\n",
      "SB                548 non-null float64\n",
      "CS                548 non-null float64\n",
      "HBP               170 non-null float64\n",
      "SF                170 non-null float64\n",
      "RA                548 non-null int64\n",
      "ER                548 non-null int64\n",
      "ERA               548 non-null float64\n",
      "CG                548 non-null int64\n",
      "SHO               548 non-null int64\n",
      "SV                548 non-null int64\n",
      "IPouts            548 non-null int64\n",
      "HA                548 non-null int64\n",
      "HRA               548 non-null int64\n",
      "BBA               548 non-null int64\n",
      "SOA               548 non-null int64\n",
      "E                 548 non-null int64\n",
      "DP                548 non-null float64\n",
      "FP                548 non-null float64\n",
      "name              548 non-null object\n",
      "park              548 non-null object\n",
      "attendance        548 non-null float64\n",
      "BPF               548 non-null int64\n",
      "PPF               548 non-null int64\n",
      "teamIDBR          548 non-null object\n",
      "teamIDlahman45    548 non-null object\n",
      "teamIDretro       548 non-null object\n",
      "dtypes: float64(10), int64(25), object(13)\n",
      "memory usage: 209.8+ KB\n"
     ]
    }
   ],
   "source": [
    "# Check which columns have missing values:\n",
    "\n",
    "east_division.info()"
   ]
  },
  {
   "cell_type": "markdown",
   "metadata": {},
   "source": [
    "We observe that DivWin, WCWin, LgWin, WSWin, HBP and SF have a few missing values.\n",
    "Let's see what values are filled in these columns:"
   ]
  },
  {
   "cell_type": "code",
   "execution_count": 123,
   "metadata": {
    "collapsed": false
   },
   "outputs": [
    {
     "name": "stdout",
     "output_type": "stream",
     "text": [
      "N    442\n",
      "Y     96\n",
      "Name: DivWin, dtype: int64\n",
      "N    195\n",
      "Y     25\n",
      "Name: WCWin, dtype: int64\n",
      "N    492\n",
      "Y     46\n",
      "Name: LgWin, dtype: int64\n",
      "N    513\n",
      "Y     25\n",
      "Name: WSWin, dtype: int64\n",
      "54.0    12\n",
      "55.0     8\n",
      "56.0     7\n",
      "53.0     6\n",
      "63.0     6\n",
      "45.0     6\n",
      "51.0     6\n",
      "47.0     5\n",
      "58.0     5\n",
      "69.0     5\n",
      "57.0     5\n",
      "42.0     5\n",
      "64.0     4\n",
      "44.0     4\n",
      "72.0     4\n",
      "60.0     4\n",
      "49.0     4\n",
      "67.0     4\n",
      "59.0     4\n",
      "73.0     4\n",
      "62.0     4\n",
      "52.0     3\n",
      "68.0     3\n",
      "70.0     3\n",
      "39.0     3\n",
      "43.0     3\n",
      "74.0     3\n",
      "46.0     3\n",
      "35.0     3\n",
      "36.0     3\n",
      "41.0     2\n",
      "66.0     2\n",
      "89.0     2\n",
      "61.0     2\n",
      "71.0     2\n",
      "90.0     2\n",
      "65.0     2\n",
      "48.0     2\n",
      "50.0     2\n",
      "80.0     2\n",
      "28.0     1\n",
      "34.0     1\n",
      "38.0     1\n",
      "29.0     1\n",
      "82.0     1\n",
      "77.0     1\n",
      "78.0     1\n",
      "95.0     1\n",
      "81.0     1\n",
      "40.0     1\n",
      "84.0     1\n",
      "Name: HBP, dtype: int64\n",
      "49.0    11\n",
      "45.0    10\n",
      "40.0    10\n",
      "42.0     9\n",
      "47.0     8\n",
      "46.0     7\n",
      "52.0     7\n",
      "41.0     7\n",
      "43.0     7\n",
      "39.0     7\n",
      "50.0     6\n",
      "36.0     6\n",
      "51.0     6\n",
      "30.0     5\n",
      "56.0     5\n",
      "38.0     5\n",
      "48.0     5\n",
      "34.0     5\n",
      "35.0     5\n",
      "55.0     4\n",
      "54.0     4\n",
      "44.0     4\n",
      "32.0     4\n",
      "62.0     3\n",
      "57.0     3\n",
      "37.0     2\n",
      "63.0     2\n",
      "53.0     2\n",
      "31.0     2\n",
      "27.0     1\n",
      "61.0     1\n",
      "26.0     1\n",
      "58.0     1\n",
      "33.0     1\n",
      "25.0     1\n",
      "29.0     1\n",
      "64.0     1\n",
      "28.0     1\n",
      "Name: SF, dtype: int64\n"
     ]
    }
   ],
   "source": [
    "print east_division.DivWin.value_counts()\n",
    "print east_division.WCWin.value_counts()\n",
    "print east_division.LgWin.value_counts()\n",
    "print east_division.WSWin.value_counts()\n",
    "print east_division.HBP.value_counts()\n",
    "print east_division.SF.value_counts()"
   ]
  },
  {
   "cell_type": "markdown",
   "metadata": {},
   "source": [
    "Wee see that, for the columns DivWin, WCWin, LgWin and WSWin, the values are 'Y' and 'N'. It looks like the default value is 'N', so I will fill the missing values in these columns with 'N'. \n",
    "For the columns HBP and SF, the values are numeric values. So, I will fill the missing values in these columns with the mean of the respective column."
   ]
  },
  {
   "cell_type": "code",
   "execution_count": 125,
   "metadata": {
    "collapsed": false
   },
   "outputs": [],
   "source": [
    "# Handling the missing values in east_division dataframe:\n",
    "east_division['DivWin'].fillna('N', inplace=True)\n",
    "east_division['WCWin'].fillna('N', inplace=True)\n",
    "east_division['LgWin'].fillna('N', inplace=True)\n",
    "east_division['WSWin'].fillna('N', inplace=True)\n",
    "east_division['HBP'].fillna(east_division['HBP'].mean(), inplace=True)\n",
    "east_division['SF'].fillna(east_division['SF'].mean(), inplace=True)"
   ]
  },
  {
   "cell_type": "code",
   "execution_count": 127,
   "metadata": {
    "collapsed": false
   },
   "outputs": [
    {
     "data": {
      "text/plain": [
       "<matplotlib.text.Text at 0x1ac77358>"
      ]
     },
     "execution_count": 127,
     "metadata": {},
     "output_type": "execute_result"
    },
    {
     "data": {
      "image/png": "[encoded data removed]",
      "text/plain": [
       "<matplotlib.figure.Figure at 0x15f0c080>"
      ]
     },
     "metadata": {},
     "output_type": "display_data"
    }
   ],
   "source": [
    "# Now, let's analyze the data to answer the posed question\n",
    "grouped_by_teamID = east_division.groupby('teamID', as_index=False).mean()\n",
    "# Below, I am plotting a bar graph- Mean Rank vs teamID\n",
    "%matplotlib inline\n",
    "import matplotlib.font_manager as fm\n",
    "fig = plt.figure(figsize=(10,5))\n",
    "# The above line of code adjusts the size of the bar graph so that \n",
    "# all the teamIDs fit on the x-axis\n",
    "x_pos = np.arange(len(grouped_by_teamID['teamID']))\n",
    "# Setting x-ticks to TeamID\n",
    "plt.bar(x_pos, grouped_by_teamID['Rank'], align='edge', width=0.5)\n",
    "plt.xticks(x_pos, grouped_by_teamID['teamID'])\n",
    "plt.ylabel('Mean Rank')\n",
    "plt.title('Mean Rank vs teamID (1990-2016) - East Division')"
   ]
  },
  {
   "cell_type": "markdown",
   "metadata": {},
   "source": [
    "In the bar graph above, we see that the team abbreviated __'ATL'__ has performed the best as it has the least Mean Rank. \n",
    "The above graph shed light on other performance statistics like, which team performed the worst in the East Division ('CLE', as it has the highest mean rank). \n",
    "We can also get an idea how each team performed compared to other teams in the East Division by comparing the length of the bars."
   ]
  },
  {
   "cell_type": "markdown",
   "metadata": {},
   "source": [
    "One important thing to note in the above bar graph is that the team corresponding to the smallest bar (least mean rank) is the best performing team and vice versa. Below, I have tabulated this data to get a better understanding:"
   ]
  },
  {
   "cell_type": "code",
   "execution_count": 128,
   "metadata": {
    "collapsed": false
   },
   "outputs": [
    {
     "data": {
      "text/html": [
       "<div>\n",
       "<table border=\"1\" class=\"dataframe\">\n",
       "  <thead>\n",
       "    <tr style=\"text-align: right;\">\n",
       "      <th></th>\n",
       "      <th>Rank</th>\n",
       "    </tr>\n",
       "    <tr>\n",
       "      <th>teamID</th>\n",
       "      <th></th>\n",
       "    </tr>\n",
       "  </thead>\n",
       "  <tbody>\n",
       "    <tr>\n",
       "      <th>ATL</th>\n",
       "      <td>1.913043</td>\n",
       "    </tr>\n",
       "    <tr>\n",
       "      <th>NYA</th>\n",
       "      <td>2.500000</td>\n",
       "    </tr>\n",
       "    <tr>\n",
       "      <th>PIT</th>\n",
       "      <td>2.720000</td>\n",
       "    </tr>\n",
       "    <tr>\n",
       "      <th>BOS</th>\n",
       "      <td>2.895833</td>\n",
       "    </tr>\n",
       "    <tr>\n",
       "      <th>SLN</th>\n",
       "      <td>3.080000</td>\n",
       "    </tr>\n",
       "    <tr>\n",
       "      <th>BAL</th>\n",
       "      <td>3.166667</td>\n",
       "    </tr>\n",
       "    <tr>\n",
       "      <th>PHI</th>\n",
       "      <td>3.229167</td>\n",
       "    </tr>\n",
       "    <tr>\n",
       "      <th>WAS</th>\n",
       "      <td>3.250000</td>\n",
       "    </tr>\n",
       "    <tr>\n",
       "      <th>NYN</th>\n",
       "      <td>3.333333</td>\n",
       "    </tr>\n",
       "    <tr>\n",
       "      <th>TOR</th>\n",
       "      <td>3.550000</td>\n",
       "    </tr>\n",
       "    <tr>\n",
       "      <th>DET</th>\n",
       "      <td>3.586207</td>\n",
       "    </tr>\n",
       "    <tr>\n",
       "      <th>FLO</th>\n",
       "      <td>3.736842</td>\n",
       "    </tr>\n",
       "    <tr>\n",
       "      <th>MON</th>\n",
       "      <td>3.805556</td>\n",
       "    </tr>\n",
       "    <tr>\n",
       "      <th>TBA</th>\n",
       "      <td>3.894737</td>\n",
       "    </tr>\n",
       "    <tr>\n",
       "      <th>MIA</th>\n",
       "      <td>4.000000</td>\n",
       "    </tr>\n",
       "    <tr>\n",
       "      <th>CHN</th>\n",
       "      <td>4.000000</td>\n",
       "    </tr>\n",
       "    <tr>\n",
       "      <th>ML4</th>\n",
       "      <td>4.363636</td>\n",
       "    </tr>\n",
       "    <tr>\n",
       "      <th>WS2</th>\n",
       "      <td>5.000000</td>\n",
       "    </tr>\n",
       "    <tr>\n",
       "      <th>CLE</th>\n",
       "      <td>5.600000</td>\n",
       "    </tr>\n",
       "  </tbody>\n",
       "</table>\n",
       "</div>"
      ],
      "text/plain": [
       "            Rank\n",
       "teamID          \n",
       "ATL     1.913043\n",
       "NYA     2.500000\n",
       "PIT     2.720000\n",
       "BOS     2.895833\n",
       "SLN     3.080000\n",
       "BAL     3.166667\n",
       "PHI     3.229167\n",
       "WAS     3.250000\n",
       "NYN     3.333333\n",
       "TOR     3.550000\n",
       "DET     3.586207\n",
       "FLO     3.736842\n",
       "MON     3.805556\n",
       "TBA     3.894737\n",
       "MIA     4.000000\n",
       "CHN     4.000000\n",
       "ML4     4.363636\n",
       "WS2     5.000000\n",
       "CLE     5.600000"
      ]
     },
     "execution_count": 128,
     "metadata": {},
     "output_type": "execute_result"
    }
   ],
   "source": [
    "mean_rank = east_division.groupby('teamID')['Rank'].mean()\n",
    "mean_rank.sort_values().to_frame()"
   ]
  },
  {
   "cell_type": "markdown",
   "metadata": {},
   "source": [
    "In the table above, the teams are arranged in the order of mean rank so that the top most team is the best performer, where as the bottom most team is the worst."
   ]
  },
  {
   "cell_type": "code",
   "execution_count": 129,
   "metadata": {
    "collapsed": false
   },
   "outputs": [
    {
     "name": "stdout",
     "output_type": "stream",
     "text": [
      "Name of the best performing team:  ['Atlanta Braves']\n"
     ]
    }
   ],
   "source": [
    "# To find the name of the team that has the least mean rank, or in other words, the best performer.\n",
    "least_mean_rank = grouped_by_teamID['Rank'].argmin()\n",
    "best_TeamID = grouped_by_teamID.iloc[least_mean_rank]['teamID']\n",
    "print \"Name of the best performing team: \", teams_df.loc[teams_df['teamID'] == best_TeamID]['name'].unique()"
   ]
  },
  {
   "cell_type": "markdown",
   "metadata": {},
   "source": [
    "Thus, the team __'Atlanta Braves'__ has performed the best in the East Division.\n"
   ]
  },
  {
   "cell_type": "markdown",
   "metadata": {},
   "source": [
    "Limitations to this Analysis:\n",
    "1. I have assumed that the best performance means the team with the least mean rank as I think that rank is the best indicator of performance. However, there can be other means of measuring performnace which could result in different results.\n",
    "2. I have chosen to analyze the East Division as I have found out on the internet that this division has more popular teams. We can just change one line of code: `east_division = teams_df.query('divID == \"E\"')` to look at any other division.\n",
    "3. I have chosen data after the year 1990 so as to visualization of performance can be easier as fewer number of teams are involved in this analysis."
   ]
  },
  {
   "cell_type": "markdown",
   "metadata": {},
   "source": [
    "### Analysis 2:\n",
    "\n",
    "Question: Does the Player's batting hand affect his performance ?\n",
    "\n",
    "Assumptions: Here, the player's performance is measured in terms of Mean Hits, Runs and Home runs scored.\n",
    "So, we are looking at the relation between player's batting hand to the Mean Hits, Runs and Home runs scored."
   ]
  },
  {
   "cell_type": "code",
   "execution_count": 130,
   "metadata": {
    "collapsed": true
   },
   "outputs": [],
   "source": [
    "master_df = pd.read_csv('Master.csv')\n",
    "batting_df = pd.read_csv('Batting.csv')\n",
    "player_stats = master_df.merge(batting_df, on = 'playerID', how = 'inner')\n",
    "# I am merging the above 2 dataframes so that I can get all the values and variables I need for analysis in one dataframe"
   ]
  },
  {
   "cell_type": "code",
   "execution_count": 131,
   "metadata": {
    "collapsed": false
   },
   "outputs": [
    {
     "data": {
      "text/html": [
       "<div>\n",
       "<table border=\"1\" class=\"dataframe\">\n",
       "  <thead>\n",
       "    <tr style=\"text-align: right;\">\n",
       "      <th></th>\n",
       "      <th>playerID</th>\n",
       "      <th>birthYear</th>\n",
       "      <th>birthMonth</th>\n",
       "      <th>birthDay</th>\n",
       "      <th>birthCountry</th>\n",
       "      <th>birthState</th>\n",
       "      <th>birthCity</th>\n",
       "      <th>deathYear</th>\n",
       "      <th>deathMonth</th>\n",
       "      <th>deathDay</th>\n",
       "      <th>...</th>\n",
       "      <th>RBI</th>\n",
       "      <th>SB</th>\n",
       "      <th>CS</th>\n",
       "      <th>BB</th>\n",
       "      <th>SO</th>\n",
       "      <th>IBB</th>\n",
       "      <th>HBP</th>\n",
       "      <th>SH</th>\n",
       "      <th>SF</th>\n",
       "      <th>GIDP</th>\n",
       "    </tr>\n",
       "  </thead>\n",
       "  <tbody>\n",
       "    <tr>\n",
       "      <th>0</th>\n",
       "      <td>aardsda01</td>\n",
       "      <td>1981.0</td>\n",
       "      <td>12.0</td>\n",
       "      <td>27.0</td>\n",
       "      <td>USA</td>\n",
       "      <td>CO</td>\n",
       "      <td>Denver</td>\n",
       "      <td>NaN</td>\n",
       "      <td>NaN</td>\n",
       "      <td>NaN</td>\n",
       "      <td>...</td>\n",
       "      <td>0.0</td>\n",
       "      <td>0.0</td>\n",
       "      <td>0.0</td>\n",
       "      <td>0</td>\n",
       "      <td>0.0</td>\n",
       "      <td>0.0</td>\n",
       "      <td>0.0</td>\n",
       "      <td>0.0</td>\n",
       "      <td>0.0</td>\n",
       "      <td>0.0</td>\n",
       "    </tr>\n",
       "    <tr>\n",
       "      <th>1</th>\n",
       "      <td>aardsda01</td>\n",
       "      <td>1981.0</td>\n",
       "      <td>12.0</td>\n",
       "      <td>27.0</td>\n",
       "      <td>USA</td>\n",
       "      <td>CO</td>\n",
       "      <td>Denver</td>\n",
       "      <td>NaN</td>\n",
       "      <td>NaN</td>\n",
       "      <td>NaN</td>\n",
       "      <td>...</td>\n",
       "      <td>0.0</td>\n",
       "      <td>0.0</td>\n",
       "      <td>0.0</td>\n",
       "      <td>0</td>\n",
       "      <td>0.0</td>\n",
       "      <td>0.0</td>\n",
       "      <td>0.0</td>\n",
       "      <td>1.0</td>\n",
       "      <td>0.0</td>\n",
       "      <td>0.0</td>\n",
       "    </tr>\n",
       "    <tr>\n",
       "      <th>2</th>\n",
       "      <td>aardsda01</td>\n",
       "      <td>1981.0</td>\n",
       "      <td>12.0</td>\n",
       "      <td>27.0</td>\n",
       "      <td>USA</td>\n",
       "      <td>CO</td>\n",
       "      <td>Denver</td>\n",
       "      <td>NaN</td>\n",
       "      <td>NaN</td>\n",
       "      <td>NaN</td>\n",
       "      <td>...</td>\n",
       "      <td>0.0</td>\n",
       "      <td>0.0</td>\n",
       "      <td>0.0</td>\n",
       "      <td>0</td>\n",
       "      <td>0.0</td>\n",
       "      <td>0.0</td>\n",
       "      <td>0.0</td>\n",
       "      <td>0.0</td>\n",
       "      <td>0.0</td>\n",
       "      <td>0.0</td>\n",
       "    </tr>\n",
       "    <tr>\n",
       "      <th>3</th>\n",
       "      <td>aardsda01</td>\n",
       "      <td>1981.0</td>\n",
       "      <td>12.0</td>\n",
       "      <td>27.0</td>\n",
       "      <td>USA</td>\n",
       "      <td>CO</td>\n",
       "      <td>Denver</td>\n",
       "      <td>NaN</td>\n",
       "      <td>NaN</td>\n",
       "      <td>NaN</td>\n",
       "      <td>...</td>\n",
       "      <td>0.0</td>\n",
       "      <td>0.0</td>\n",
       "      <td>0.0</td>\n",
       "      <td>0</td>\n",
       "      <td>1.0</td>\n",
       "      <td>0.0</td>\n",
       "      <td>0.0</td>\n",
       "      <td>0.0</td>\n",
       "      <td>0.0</td>\n",
       "      <td>0.0</td>\n",
       "    </tr>\n",
       "    <tr>\n",
       "      <th>4</th>\n",
       "      <td>aardsda01</td>\n",
       "      <td>1981.0</td>\n",
       "      <td>12.0</td>\n",
       "      <td>27.0</td>\n",
       "      <td>USA</td>\n",
       "      <td>CO</td>\n",
       "      <td>Denver</td>\n",
       "      <td>NaN</td>\n",
       "      <td>NaN</td>\n",
       "      <td>NaN</td>\n",
       "      <td>...</td>\n",
       "      <td>0.0</td>\n",
       "      <td>0.0</td>\n",
       "      <td>0.0</td>\n",
       "      <td>0</td>\n",
       "      <td>0.0</td>\n",
       "      <td>0.0</td>\n",
       "      <td>0.0</td>\n",
       "      <td>0.0</td>\n",
       "      <td>0.0</td>\n",
       "      <td>0.0</td>\n",
       "    </tr>\n",
       "  </tbody>\n",
       "</table>\n",
       "<p>5 rows × 45 columns</p>\n",
       "</div>"
      ],
      "text/plain": [
       "    playerID  birthYear  birthMonth  birthDay birthCountry birthState  \\\n",
       "0  aardsda01     1981.0        12.0      27.0          USA         CO   \n",
       "1  aardsda01     1981.0        12.0      27.0          USA         CO   \n",
       "2  aardsda01     1981.0        12.0      27.0          USA         CO   \n",
       "3  aardsda01     1981.0        12.0      27.0          USA         CO   \n",
       "4  aardsda01     1981.0        12.0      27.0          USA         CO   \n",
       "\n",
       "  birthCity  deathYear  deathMonth  deathDay ...   RBI   SB   CS BB   SO  IBB  \\\n",
       "0    Denver        NaN         NaN       NaN ...   0.0  0.0  0.0  0  0.0  0.0   \n",
       "1    Denver        NaN         NaN       NaN ...   0.0  0.0  0.0  0  0.0  0.0   \n",
       "2    Denver        NaN         NaN       NaN ...   0.0  0.0  0.0  0  0.0  0.0   \n",
       "3    Denver        NaN         NaN       NaN ...   0.0  0.0  0.0  0  1.0  0.0   \n",
       "4    Denver        NaN         NaN       NaN ...   0.0  0.0  0.0  0  0.0  0.0   \n",
       "\n",
       "   HBP   SH   SF GIDP  \n",
       "0  0.0  0.0  0.0  0.0  \n",
       "1  0.0  1.0  0.0  0.0  \n",
       "2  0.0  0.0  0.0  0.0  \n",
       "3  0.0  0.0  0.0  0.0  \n",
       "4  0.0  0.0  0.0  0.0  \n",
       "\n",
       "[5 rows x 45 columns]"
      ]
     },
     "execution_count": 131,
     "metadata": {},
     "output_type": "execute_result"
    }
   ],
   "source": [
    "# Let's explore this data:\n",
    "player_stats.head()"
   ]
  },
  {
   "cell_type": "code",
   "execution_count": 132,
   "metadata": {
    "collapsed": false
   },
   "outputs": [
    {
     "data": {
      "text/plain": [
       "<matplotlib.text.Text at 0x1aee4470>"
      ]
     },
     "execution_count": 132,
     "metadata": {},
     "output_type": "execute_result"
    },
    {
     "data": {
      "image/png": "[encoded data removed]",
      "text/plain": [
       "<matplotlib.figure.Figure at 0x1b36dac8>"
      ]
     },
     "metadata": {},
     "output_type": "display_data"
    }
   ],
   "source": [
    "# Histogram of hits:\n",
    "plt.hist(player_stats.H.dropna(), 7)\n",
    "plt.xlabel('Number of hits')\n",
    "plt.ylabel('Frequency')\n",
    "plt.title('Histogram of number of hits in player_stats')"
   ]
  },
  {
   "cell_type": "code",
   "execution_count": 133,
   "metadata": {
    "collapsed": false
   },
   "outputs": [
    {
     "data": {
      "text/plain": [
       "count    102816.000000\n",
       "mean         37.139930\n",
       "std          52.603757\n",
       "min           0.000000\n",
       "25%           0.000000\n",
       "50%           9.000000\n",
       "75%          58.000000\n",
       "max         262.000000\n",
       "Name: H, dtype: float64"
      ]
     },
     "execution_count": 133,
     "metadata": {},
     "output_type": "execute_result"
    }
   ],
   "source": [
    "player_stats.H.describe()"
   ]
  },
  {
   "cell_type": "markdown",
   "metadata": {},
   "source": [
    "Description: The above histogram of number of hits shows that this is a positively scored distribution. This is understandable because there will be a lot of players with hits = 0 (min = 0 & First quartile = 0). "
   ]
  },
  {
   "cell_type": "code",
   "execution_count": 134,
   "metadata": {
    "collapsed": false
   },
   "outputs": [
    {
     "data": {
      "text/plain": [
       "<matplotlib.text.Text at 0xf232ac8>"
      ]
     },
     "execution_count": 134,
     "metadata": {},
     "output_type": "execute_result"
    },
    {
     "data": {
      "image/png": "[encoded data removed]",
      "text/plain": [
       "<matplotlib.figure.Figure at 0x1d42d5c0>"
      ]
     },
     "metadata": {},
     "output_type": "display_data"
    }
   ],
   "source": [
    "# Histogram of Runs:\n",
    "plt.hist(player_stats.R.dropna(), 7)\n",
    "plt.xlabel('Number of Runs')\n",
    "plt.ylabel('Frequency')\n",
    "plt.title('Histogram of number of runs in player_stats')"
   ]
  },
  {
   "cell_type": "code",
   "execution_count": 135,
   "metadata": {
    "collapsed": false
   },
   "outputs": [
    {
     "data": {
      "text/plain": [
       "count    102816.000000\n",
       "mean         18.815544\n",
       "std          28.242983\n",
       "min           0.000000\n",
       "25%           0.000000\n",
       "50%           4.000000\n",
       "75%          27.000000\n",
       "max         192.000000\n",
       "Name: R, dtype: float64"
      ]
     },
     "execution_count": 135,
     "metadata": {},
     "output_type": "execute_result"
    }
   ],
   "source": [
    "player_stats.R.describe()"
   ]
  },
  {
   "cell_type": "markdown",
   "metadata": {},
   "source": [
    "Description: The above histogram of number of runs shows that this is a positively scored distribution. This is understandable because there will be a lot of players with runs = 0 (min = 0 & First quartile = 0). "
   ]
  },
  {
   "cell_type": "code",
   "execution_count": 136,
   "metadata": {
    "collapsed": false
   },
   "outputs": [
    {
     "data": {
      "text/plain": [
       "<matplotlib.text.Text at 0x1d62f400>"
      ]
     },
     "execution_count": 136,
     "metadata": {},
     "output_type": "execute_result"
    },
    {
     "data": {
      "image/png": "[encoded data removed]",
      "text/plain": [
       "<matplotlib.figure.Figure at 0xf228080>"
      ]
     },
     "metadata": {},
     "output_type": "display_data"
    }
   ],
   "source": [
    "plt.hist(player_stats.HR.dropna(), 5)\n",
    "plt.xlabel('Number of Home Runs')\n",
    "plt.ylabel('Frequency')\n",
    "plt.title('Histogram of number of home runs in player_stats')"
   ]
  },
  {
   "cell_type": "code",
   "execution_count": 137,
   "metadata": {
    "collapsed": false
   },
   "outputs": [
    {
     "data": {
      "text/plain": [
       "count    102816.000000\n",
       "mean          2.813599\n",
       "std           6.304919\n",
       "min           0.000000\n",
       "25%           0.000000\n",
       "50%           0.000000\n",
       "75%           2.000000\n",
       "max          73.000000\n",
       "Name: HR, dtype: float64"
      ]
     },
     "execution_count": 137,
     "metadata": {},
     "output_type": "execute_result"
    }
   ],
   "source": [
    "player_stats.HR.describe()"
   ]
  },
  {
   "cell_type": "markdown",
   "metadata": {},
   "source": [
    "Description: The above histogram of number of home runs shows that this is a positively scored distribution. This is understandable because there will be a lot of players with home runs = 0 (min = 0 & First quartile = 0, median = 0). "
   ]
  },
  {
   "cell_type": "code",
   "execution_count": 138,
   "metadata": {
    "collapsed": false
   },
   "outputs": [
    {
     "name": "stdout",
     "output_type": "stream",
     "text": [
      "<class 'pandas.core.frame.DataFrame'>\n",
      "Int64Index: 102816 entries, 0 to 102815\n",
      "Data columns (total 45 columns):\n",
      "playerID        102816 non-null object\n",
      "birthYear       102648 non-null float64\n",
      "birthMonth      102284 non-null float64\n",
      "birthDay        101928 non-null float64\n",
      "birthCountry    102733 non-null object\n",
      "birthState      99653 non-null object\n",
      "birthCity       102402 non-null object\n",
      "deathYear       44160 non-null float64\n",
      "deathMonth      44159 non-null float64\n",
      "deathDay        44157 non-null float64\n",
      "deathCountry    44149 non-null object\n",
      "deathState      43953 non-null object\n",
      "deathCity       44125 non-null object\n",
      "nameFirst       102778 non-null object\n",
      "nameLast        102816 non-null object\n",
      "nameGiven       102778 non-null object\n",
      "weight          101632 non-null float64\n",
      "height          101691 non-null float64\n",
      "bats            100894 non-null object\n",
      "throws          101344 non-null object\n",
      "debut           102810 non-null object\n",
      "finalGame       102810 non-null object\n",
      "retroID         102816 non-null object\n",
      "bbrefID         102814 non-null object\n",
      "yearID          102816 non-null int64\n",
      "stint           102816 non-null int64\n",
      "teamID          102816 non-null object\n",
      "lgID            102079 non-null object\n",
      "G               102816 non-null int64\n",
      "AB              102816 non-null int64\n",
      "R               102816 non-null int64\n",
      "H               102816 non-null int64\n",
      "2B              102816 non-null int64\n",
      "3B              102816 non-null int64\n",
      "HR              102816 non-null int64\n",
      "RBI             102392 non-null float64\n",
      "SB              101516 non-null float64\n",
      "CS              79360 non-null float64\n",
      "BB              102816 non-null int64\n",
      "SO              94978 non-null float64\n",
      "IBB             66251 non-null float64\n",
      "HBP             100006 non-null float64\n",
      "SH              96478 non-null float64\n",
      "SF              66782 non-null float64\n",
      "GIDP            76706 non-null float64\n",
      "dtypes: float64(17), int64(10), object(18)\n",
      "memory usage: 36.1+ MB\n"
     ]
    }
   ],
   "source": [
    "# To check which columns are missing values:\n",
    "player_stats.info()"
   ]
  },
  {
   "cell_type": "markdown",
   "metadata": {},
   "source": [
    "Above, we see that there are many columns with missing values. Thus, I will extract the columns I require in my analysis into a new dataframe \"player_stats_filtered\" so that I can handle missing values of data that I require for my analysis."
   ]
  },
  {
   "cell_type": "code",
   "execution_count": 139,
   "metadata": {
    "collapsed": false
   },
   "outputs": [
    {
     "name": "stdout",
     "output_type": "stream",
     "text": [
      "<class 'pandas.core.frame.DataFrame'>\n",
      "Int64Index: 102816 entries, 0 to 102815\n",
      "Data columns (total 4 columns):\n",
      "bats    100894 non-null object\n",
      "H       102816 non-null int64\n",
      "R       102816 non-null int64\n",
      "HR      102816 non-null int64\n",
      "dtypes: int64(3), object(1)\n",
      "memory usage: 3.9+ MB\n"
     ]
    }
   ],
   "source": [
    "player_stats_filtered = player_stats[['bats', 'H', 'R', 'HR']]\n",
    "player_stats_filtered.info()"
   ]
  },
  {
   "cell_type": "markdown",
   "metadata": {},
   "source": [
    "We see that there are a few null values in 'bats'. Let's look at these entires closely."
   ]
  },
  {
   "cell_type": "code",
   "execution_count": 140,
   "metadata": {
    "collapsed": false
   },
   "outputs": [
    {
     "data": {
      "text/html": [
       "<div>\n",
       "<table border=\"1\" class=\"dataframe\">\n",
       "  <thead>\n",
       "    <tr style=\"text-align: right;\">\n",
       "      <th></th>\n",
       "      <th>bats</th>\n",
       "      <th>H</th>\n",
       "      <th>R</th>\n",
       "      <th>HR</th>\n",
       "    </tr>\n",
       "  </thead>\n",
       "  <tbody>\n",
       "    <tr>\n",
       "      <th>153</th>\n",
       "      <td>NaN</td>\n",
       "      <td>0</td>\n",
       "      <td>0</td>\n",
       "      <td>0</td>\n",
       "    </tr>\n",
       "    <tr>\n",
       "      <th>433</th>\n",
       "      <td>NaN</td>\n",
       "      <td>1</td>\n",
       "      <td>0</td>\n",
       "      <td>0</td>\n",
       "    </tr>\n",
       "    <tr>\n",
       "      <th>568</th>\n",
       "      <td>NaN</td>\n",
       "      <td>2</td>\n",
       "      <td>1</td>\n",
       "      <td>0</td>\n",
       "    </tr>\n",
       "    <tr>\n",
       "      <th>706</th>\n",
       "      <td>NaN</td>\n",
       "      <td>1</td>\n",
       "      <td>1</td>\n",
       "      <td>0</td>\n",
       "    </tr>\n",
       "    <tr>\n",
       "      <th>1124</th>\n",
       "      <td>NaN</td>\n",
       "      <td>18</td>\n",
       "      <td>8</td>\n",
       "      <td>0</td>\n",
       "    </tr>\n",
       "    <tr>\n",
       "      <th>1133</th>\n",
       "      <td>NaN</td>\n",
       "      <td>2</td>\n",
       "      <td>0</td>\n",
       "      <td>0</td>\n",
       "    </tr>\n",
       "    <tr>\n",
       "      <th>1216</th>\n",
       "      <td>NaN</td>\n",
       "      <td>15</td>\n",
       "      <td>11</td>\n",
       "      <td>0</td>\n",
       "    </tr>\n",
       "    <tr>\n",
       "      <th>1217</th>\n",
       "      <td>NaN</td>\n",
       "      <td>40</td>\n",
       "      <td>28</td>\n",
       "      <td>0</td>\n",
       "    </tr>\n",
       "    <tr>\n",
       "      <th>1218</th>\n",
       "      <td>NaN</td>\n",
       "      <td>23</td>\n",
       "      <td>13</td>\n",
       "      <td>0</td>\n",
       "    </tr>\n",
       "    <tr>\n",
       "      <th>1219</th>\n",
       "      <td>NaN</td>\n",
       "      <td>32</td>\n",
       "      <td>12</td>\n",
       "      <td>0</td>\n",
       "    </tr>\n",
       "    <tr>\n",
       "      <th>1220</th>\n",
       "      <td>NaN</td>\n",
       "      <td>24</td>\n",
       "      <td>18</td>\n",
       "      <td>0</td>\n",
       "    </tr>\n",
       "    <tr>\n",
       "      <th>1221</th>\n",
       "      <td>NaN</td>\n",
       "      <td>42</td>\n",
       "      <td>26</td>\n",
       "      <td>1</td>\n",
       "    </tr>\n",
       "    <tr>\n",
       "      <th>1222</th>\n",
       "      <td>NaN</td>\n",
       "      <td>27</td>\n",
       "      <td>9</td>\n",
       "      <td>0</td>\n",
       "    </tr>\n",
       "    <tr>\n",
       "      <th>1223</th>\n",
       "      <td>NaN</td>\n",
       "      <td>3</td>\n",
       "      <td>5</td>\n",
       "      <td>0</td>\n",
       "    </tr>\n",
       "    <tr>\n",
       "      <th>1824</th>\n",
       "      <td>NaN</td>\n",
       "      <td>2</td>\n",
       "      <td>1</td>\n",
       "      <td>0</td>\n",
       "    </tr>\n",
       "    <tr>\n",
       "      <th>1825</th>\n",
       "      <td>NaN</td>\n",
       "      <td>1</td>\n",
       "      <td>1</td>\n",
       "      <td>0</td>\n",
       "    </tr>\n",
       "    <tr>\n",
       "      <th>1826</th>\n",
       "      <td>NaN</td>\n",
       "      <td>3</td>\n",
       "      <td>4</td>\n",
       "      <td>0</td>\n",
       "    </tr>\n",
       "    <tr>\n",
       "      <th>2039</th>\n",
       "      <td>NaN</td>\n",
       "      <td>38</td>\n",
       "      <td>32</td>\n",
       "      <td>3</td>\n",
       "    </tr>\n",
       "    <tr>\n",
       "      <th>2095</th>\n",
       "      <td>NaN</td>\n",
       "      <td>0</td>\n",
       "      <td>0</td>\n",
       "      <td>0</td>\n",
       "    </tr>\n",
       "    <tr>\n",
       "      <th>2454</th>\n",
       "      <td>NaN</td>\n",
       "      <td>11</td>\n",
       "      <td>9</td>\n",
       "      <td>0</td>\n",
       "    </tr>\n",
       "    <tr>\n",
       "      <th>2480</th>\n",
       "      <td>NaN</td>\n",
       "      <td>1</td>\n",
       "      <td>2</td>\n",
       "      <td>0</td>\n",
       "    </tr>\n",
       "    <tr>\n",
       "      <th>2577</th>\n",
       "      <td>NaN</td>\n",
       "      <td>0</td>\n",
       "      <td>0</td>\n",
       "      <td>0</td>\n",
       "    </tr>\n",
       "    <tr>\n",
       "      <th>2578</th>\n",
       "      <td>NaN</td>\n",
       "      <td>10</td>\n",
       "      <td>8</td>\n",
       "      <td>0</td>\n",
       "    </tr>\n",
       "    <tr>\n",
       "      <th>2579</th>\n",
       "      <td>NaN</td>\n",
       "      <td>1</td>\n",
       "      <td>2</td>\n",
       "      <td>0</td>\n",
       "    </tr>\n",
       "    <tr>\n",
       "      <th>2671</th>\n",
       "      <td>NaN</td>\n",
       "      <td>0</td>\n",
       "      <td>0</td>\n",
       "      <td>0</td>\n",
       "    </tr>\n",
       "    <tr>\n",
       "      <th>2778</th>\n",
       "      <td>NaN</td>\n",
       "      <td>0</td>\n",
       "      <td>2</td>\n",
       "      <td>0</td>\n",
       "    </tr>\n",
       "    <tr>\n",
       "      <th>2907</th>\n",
       "      <td>NaN</td>\n",
       "      <td>25</td>\n",
       "      <td>10</td>\n",
       "      <td>0</td>\n",
       "    </tr>\n",
       "    <tr>\n",
       "      <th>3179</th>\n",
       "      <td>NaN</td>\n",
       "      <td>3</td>\n",
       "      <td>1</td>\n",
       "      <td>0</td>\n",
       "    </tr>\n",
       "    <tr>\n",
       "      <th>3315</th>\n",
       "      <td>NaN</td>\n",
       "      <td>0</td>\n",
       "      <td>0</td>\n",
       "      <td>0</td>\n",
       "    </tr>\n",
       "    <tr>\n",
       "      <th>3389</th>\n",
       "      <td>NaN</td>\n",
       "      <td>8</td>\n",
       "      <td>3</td>\n",
       "      <td>0</td>\n",
       "    </tr>\n",
       "    <tr>\n",
       "      <th>...</th>\n",
       "      <td>...</td>\n",
       "      <td>...</td>\n",
       "      <td>...</td>\n",
       "      <td>...</td>\n",
       "    </tr>\n",
       "    <tr>\n",
       "      <th>101360</th>\n",
       "      <td>NaN</td>\n",
       "      <td>1</td>\n",
       "      <td>1</td>\n",
       "      <td>0</td>\n",
       "    </tr>\n",
       "    <tr>\n",
       "      <th>101375</th>\n",
       "      <td>NaN</td>\n",
       "      <td>5</td>\n",
       "      <td>3</td>\n",
       "      <td>0</td>\n",
       "    </tr>\n",
       "    <tr>\n",
       "      <th>101376</th>\n",
       "      <td>NaN</td>\n",
       "      <td>6</td>\n",
       "      <td>7</td>\n",
       "      <td>0</td>\n",
       "    </tr>\n",
       "    <tr>\n",
       "      <th>101380</th>\n",
       "      <td>NaN</td>\n",
       "      <td>2</td>\n",
       "      <td>0</td>\n",
       "      <td>0</td>\n",
       "    </tr>\n",
       "    <tr>\n",
       "      <th>101579</th>\n",
       "      <td>NaN</td>\n",
       "      <td>1</td>\n",
       "      <td>1</td>\n",
       "      <td>0</td>\n",
       "    </tr>\n",
       "    <tr>\n",
       "      <th>101580</th>\n",
       "      <td>NaN</td>\n",
       "      <td>110</td>\n",
       "      <td>65</td>\n",
       "      <td>3</td>\n",
       "    </tr>\n",
       "    <tr>\n",
       "      <th>101581</th>\n",
       "      <td>NaN</td>\n",
       "      <td>98</td>\n",
       "      <td>50</td>\n",
       "      <td>2</td>\n",
       "    </tr>\n",
       "    <tr>\n",
       "      <th>101582</th>\n",
       "      <td>NaN</td>\n",
       "      <td>3</td>\n",
       "      <td>1</td>\n",
       "      <td>0</td>\n",
       "    </tr>\n",
       "    <tr>\n",
       "      <th>101583</th>\n",
       "      <td>NaN</td>\n",
       "      <td>10</td>\n",
       "      <td>4</td>\n",
       "      <td>0</td>\n",
       "    </tr>\n",
       "    <tr>\n",
       "      <th>101646</th>\n",
       "      <td>NaN</td>\n",
       "      <td>27</td>\n",
       "      <td>16</td>\n",
       "      <td>0</td>\n",
       "    </tr>\n",
       "    <tr>\n",
       "      <th>101647</th>\n",
       "      <td>NaN</td>\n",
       "      <td>3</td>\n",
       "      <td>1</td>\n",
       "      <td>0</td>\n",
       "    </tr>\n",
       "    <tr>\n",
       "      <th>101845</th>\n",
       "      <td>NaN</td>\n",
       "      <td>0</td>\n",
       "      <td>0</td>\n",
       "      <td>0</td>\n",
       "    </tr>\n",
       "    <tr>\n",
       "      <th>101886</th>\n",
       "      <td>NaN</td>\n",
       "      <td>23</td>\n",
       "      <td>14</td>\n",
       "      <td>0</td>\n",
       "    </tr>\n",
       "    <tr>\n",
       "      <th>101887</th>\n",
       "      <td>NaN</td>\n",
       "      <td>0</td>\n",
       "      <td>0</td>\n",
       "      <td>0</td>\n",
       "    </tr>\n",
       "    <tr>\n",
       "      <th>101888</th>\n",
       "      <td>NaN</td>\n",
       "      <td>1</td>\n",
       "      <td>0</td>\n",
       "      <td>0</td>\n",
       "    </tr>\n",
       "    <tr>\n",
       "      <th>101969</th>\n",
       "      <td>NaN</td>\n",
       "      <td>0</td>\n",
       "      <td>0</td>\n",
       "      <td>0</td>\n",
       "    </tr>\n",
       "    <tr>\n",
       "      <th>102176</th>\n",
       "      <td>NaN</td>\n",
       "      <td>6</td>\n",
       "      <td>6</td>\n",
       "      <td>0</td>\n",
       "    </tr>\n",
       "    <tr>\n",
       "      <th>102187</th>\n",
       "      <td>NaN</td>\n",
       "      <td>0</td>\n",
       "      <td>0</td>\n",
       "      <td>0</td>\n",
       "    </tr>\n",
       "    <tr>\n",
       "      <th>102390</th>\n",
       "      <td>NaN</td>\n",
       "      <td>9</td>\n",
       "      <td>7</td>\n",
       "      <td>0</td>\n",
       "    </tr>\n",
       "    <tr>\n",
       "      <th>102391</th>\n",
       "      <td>NaN</td>\n",
       "      <td>11</td>\n",
       "      <td>7</td>\n",
       "      <td>0</td>\n",
       "    </tr>\n",
       "    <tr>\n",
       "      <th>102497</th>\n",
       "      <td>NaN</td>\n",
       "      <td>0</td>\n",
       "      <td>0</td>\n",
       "      <td>0</td>\n",
       "    </tr>\n",
       "    <tr>\n",
       "      <th>102501</th>\n",
       "      <td>NaN</td>\n",
       "      <td>13</td>\n",
       "      <td>5</td>\n",
       "      <td>0</td>\n",
       "    </tr>\n",
       "    <tr>\n",
       "      <th>102502</th>\n",
       "      <td>NaN</td>\n",
       "      <td>3</td>\n",
       "      <td>1</td>\n",
       "      <td>0</td>\n",
       "    </tr>\n",
       "    <tr>\n",
       "      <th>102503</th>\n",
       "      <td>NaN</td>\n",
       "      <td>1</td>\n",
       "      <td>0</td>\n",
       "      <td>0</td>\n",
       "    </tr>\n",
       "    <tr>\n",
       "      <th>102504</th>\n",
       "      <td>NaN</td>\n",
       "      <td>17</td>\n",
       "      <td>7</td>\n",
       "      <td>0</td>\n",
       "    </tr>\n",
       "    <tr>\n",
       "      <th>102505</th>\n",
       "      <td>NaN</td>\n",
       "      <td>8</td>\n",
       "      <td>2</td>\n",
       "      <td>0</td>\n",
       "    </tr>\n",
       "    <tr>\n",
       "      <th>102582</th>\n",
       "      <td>NaN</td>\n",
       "      <td>2</td>\n",
       "      <td>2</td>\n",
       "      <td>0</td>\n",
       "    </tr>\n",
       "    <tr>\n",
       "      <th>102583</th>\n",
       "      <td>NaN</td>\n",
       "      <td>3</td>\n",
       "      <td>0</td>\n",
       "      <td>0</td>\n",
       "    </tr>\n",
       "    <tr>\n",
       "      <th>102584</th>\n",
       "      <td>NaN</td>\n",
       "      <td>0</td>\n",
       "      <td>0</td>\n",
       "      <td>0</td>\n",
       "    </tr>\n",
       "    <tr>\n",
       "      <th>102677</th>\n",
       "      <td>NaN</td>\n",
       "      <td>0</td>\n",
       "      <td>0</td>\n",
       "      <td>0</td>\n",
       "    </tr>\n",
       "  </tbody>\n",
       "</table>\n",
       "<p>1922 rows × 4 columns</p>\n",
       "</div>"
      ],
      "text/plain": [
       "       bats    H   R  HR\n",
       "153     NaN    0   0   0\n",
       "433     NaN    1   0   0\n",
       "568     NaN    2   1   0\n",
       "706     NaN    1   1   0\n",
       "1124    NaN   18   8   0\n",
       "1133    NaN    2   0   0\n",
       "1216    NaN   15  11   0\n",
       "1217    NaN   40  28   0\n",
       "1218    NaN   23  13   0\n",
       "1219    NaN   32  12   0\n",
       "1220    NaN   24  18   0\n",
       "1221    NaN   42  26   1\n",
       "1222    NaN   27   9   0\n",
       "1223    NaN    3   5   0\n",
       "1824    NaN    2   1   0\n",
       "1825    NaN    1   1   0\n",
       "1826    NaN    3   4   0\n",
       "2039    NaN   38  32   3\n",
       "2095    NaN    0   0   0\n",
       "2454    NaN   11   9   0\n",
       "2480    NaN    1   2   0\n",
       "2577    NaN    0   0   0\n",
       "2578    NaN   10   8   0\n",
       "2579    NaN    1   2   0\n",
       "2671    NaN    0   0   0\n",
       "2778    NaN    0   2   0\n",
       "2907    NaN   25  10   0\n",
       "3179    NaN    3   1   0\n",
       "3315    NaN    0   0   0\n",
       "3389    NaN    8   3   0\n",
       "...     ...  ...  ..  ..\n",
       "101360  NaN    1   1   0\n",
       "101375  NaN    5   3   0\n",
       "101376  NaN    6   7   0\n",
       "101380  NaN    2   0   0\n",
       "101579  NaN    1   1   0\n",
       "101580  NaN  110  65   3\n",
       "101581  NaN   98  50   2\n",
       "101582  NaN    3   1   0\n",
       "101583  NaN   10   4   0\n",
       "101646  NaN   27  16   0\n",
       "101647  NaN    3   1   0\n",
       "101845  NaN    0   0   0\n",
       "101886  NaN   23  14   0\n",
       "101887  NaN    0   0   0\n",
       "101888  NaN    1   0   0\n",
       "101969  NaN    0   0   0\n",
       "102176  NaN    6   6   0\n",
       "102187  NaN    0   0   0\n",
       "102390  NaN    9   7   0\n",
       "102391  NaN   11   7   0\n",
       "102497  NaN    0   0   0\n",
       "102501  NaN   13   5   0\n",
       "102502  NaN    3   1   0\n",
       "102503  NaN    1   0   0\n",
       "102504  NaN   17   7   0\n",
       "102505  NaN    8   2   0\n",
       "102582  NaN    2   2   0\n",
       "102583  NaN    3   0   0\n",
       "102584  NaN    0   0   0\n",
       "102677  NaN    0   0   0\n",
       "\n",
       "[1922 rows x 4 columns]"
      ]
     },
     "execution_count": 140,
     "metadata": {},
     "output_type": "execute_result"
    }
   ],
   "source": [
    "player_stats_filtered[pd.isnull(player_stats_filtered['bats'])]"
   ]
  },
  {
   "cell_type": "markdown",
   "metadata": {},
   "source": [
    "There are 1922 entries with null values in 'bats'. Now, let's see what are the unique values of player's battaing hands in our data:"
   ]
  },
  {
   "cell_type": "code",
   "execution_count": 141,
   "metadata": {
    "collapsed": false
   },
   "outputs": [
    {
     "data": {
      "text/plain": [
       "array(['R', 'L', nan, 'B'], dtype=object)"
      ]
     },
     "execution_count": 141,
     "metadata": {},
     "output_type": "execute_result"
    }
   ],
   "source": [
    "# To see what are the values of player's batting hands in our data:\n",
    "player_stats_filtered['bats'].unique()"
   ]
  },
  {
   "cell_type": "markdown",
   "metadata": {},
   "source": [
    "Filling up nan's with either R/L/B would not be the right approach as it is impossible to predict what that particular player's playing hand is. So, I will drop these particular entries instead."
   ]
  },
  {
   "cell_type": "code",
   "execution_count": 142,
   "metadata": {
    "collapsed": false
   },
   "outputs": [
    {
     "name": "stderr",
     "output_type": "stream",
     "text": [
      "C:\\Users\\chait\\Anaconda3\\envs\\DAND\\lib\\site-packages\\ipykernel\\__main__.py:1: SettingWithCopyWarning: \n",
      "A value is trying to be set on a copy of a slice from a DataFrame\n",
      "\n",
      "See the caveats in the documentation: http://pandas.pydata.org/pandas-docs/stable/indexing.html#indexing-view-versus-copy\n",
      "  if __name__ == '__main__':\n"
     ]
    }
   ],
   "source": [
    "player_stats_filtered.dropna(inplace=True)"
   ]
  },
  {
   "cell_type": "code",
   "execution_count": 143,
   "metadata": {
    "collapsed": false
   },
   "outputs": [
    {
     "data": {
      "text/plain": [
       "R    64823\n",
       "L    28546\n",
       "B     7525\n",
       "Name: bats, dtype: int64"
      ]
     },
     "execution_count": 143,
     "metadata": {},
     "output_type": "execute_result"
    }
   ],
   "source": [
    "player_stats_filtered['bats'].value_counts()\n",
    "# Here we see that I have eliminated the nan values"
   ]
  },
  {
   "cell_type": "code",
   "execution_count": 144,
   "metadata": {
    "collapsed": false
   },
   "outputs": [
    {
     "data": {
      "text/plain": [
       "<matplotlib.legend.Legend at 0x112aceb8>"
      ]
     },
     "execution_count": 144,
     "metadata": {},
     "output_type": "execute_result"
    },
    {
     "data": {
      "image/png": "[encoded data removed]",
      "text/plain": [
       "<matplotlib.figure.Figure at 0x114b0240>"
      ]
     },
     "metadata": {},
     "output_type": "display_data"
    }
   ],
   "source": [
    "grouped_by_batting_hand = player_stats_filtered.groupby('bats')\n",
    "# Below I will plot a bar graph for player's hand vs mean hits, runs and home runs\n",
    "x_pos = np.arange(len(grouped_by_batting_hand['bats']))\n",
    "w = 0.2\n",
    "# width of the bars in my bar chart\n",
    "plt.bar(x_pos, grouped_by_batting_hand.mean()['H'], label='Hits', color='Blue', align='center', width = w)\n",
    "plt.bar(x_pos+w, grouped_by_batting_hand.mean()['R'], label='Runs', color='Green', align='center', width = w)\n",
    "plt.bar(x_pos+(w*2), grouped_by_batting_hand.mean()['HR'], label='Home Runs', color='Red', align='center', width = w)\n",
    "plt.xticks(x_pos, [ind for ind, grp in grouped_by_batting_hand['bats']])\n",
    "# Setting x-ticks to Player's Hands i.e, B,L,R\n",
    "plt.xlabel(\"Player's Hand\")\n",
    "plt.ylabel(\"Mean values\")\n",
    "plt.legend()"
   ]
  },
  {
   "cell_type": "markdown",
   "metadata": {},
   "source": [
    "From the above bar chart, we can observe the following:\n",
    "1. The mean home runs scored is almost the same for all three values of player's batting hand. \n",
    "2. Players who bat with right hand have the least mean runs and hits scored. Players who bat with left hand have slightly higher mean values for hits and runs whereas the players who can bat with both hands have higher mean values.\n",
    "3. This shows that player's batting hand has an affect on the hits and runs they score, but not the home runs they score."
   ]
  },
  {
   "cell_type": "markdown",
   "metadata": {},
   "source": [
    "### Analysis 3:\n",
    "Question: Does the player's throwing hand affect his performance ?\n",
    "\n",
    "Assumptions: Here, the player's performance is measured in terms of mean Hits, Homeruns allowed and Strikeouts. So, we are looking at the relation between player's throwing hand to the mean Hits, Homeruns allowed and Strikeouts."
   ]
  },
  {
   "cell_type": "code",
   "execution_count": 145,
   "metadata": {
    "collapsed": true
   },
   "outputs": [],
   "source": [
    "pitching_df = pd.read_csv(\"Pitching.csv\")\n",
    "pitching_stats = master_df.merge(pitching_df, on = 'playerID', how = 'inner')\n",
    "# I am merging the above 2 dataframes so that I can get all the values and variables I need for analysis in one dataframe"
   ]
  },
  {
   "cell_type": "code",
   "execution_count": 146,
   "metadata": {
    "collapsed": false
   },
   "outputs": [
    {
     "data": {
      "text/html": [
       "<div>\n",
       "<table border=\"1\" class=\"dataframe\">\n",
       "  <thead>\n",
       "    <tr style=\"text-align: right;\">\n",
       "      <th></th>\n",
       "      <th>playerID</th>\n",
       "      <th>birthYear</th>\n",
       "      <th>birthMonth</th>\n",
       "      <th>birthDay</th>\n",
       "      <th>birthCountry</th>\n",
       "      <th>birthState</th>\n",
       "      <th>birthCity</th>\n",
       "      <th>deathYear</th>\n",
       "      <th>deathMonth</th>\n",
       "      <th>deathDay</th>\n",
       "      <th>...</th>\n",
       "      <th>IBB</th>\n",
       "      <th>WP</th>\n",
       "      <th>HBP</th>\n",
       "      <th>BK</th>\n",
       "      <th>BFP</th>\n",
       "      <th>GF</th>\n",
       "      <th>R</th>\n",
       "      <th>SH</th>\n",
       "      <th>SF</th>\n",
       "      <th>GIDP</th>\n",
       "    </tr>\n",
       "  </thead>\n",
       "  <tbody>\n",
       "    <tr>\n",
       "      <th>0</th>\n",
       "      <td>aardsda01</td>\n",
       "      <td>1981.0</td>\n",
       "      <td>12.0</td>\n",
       "      <td>27.0</td>\n",
       "      <td>USA</td>\n",
       "      <td>CO</td>\n",
       "      <td>Denver</td>\n",
       "      <td>NaN</td>\n",
       "      <td>NaN</td>\n",
       "      <td>NaN</td>\n",
       "      <td>...</td>\n",
       "      <td>0.0</td>\n",
       "      <td>0.0</td>\n",
       "      <td>2.0</td>\n",
       "      <td>0</td>\n",
       "      <td>61.0</td>\n",
       "      <td>5.0</td>\n",
       "      <td>8</td>\n",
       "      <td>0.0</td>\n",
       "      <td>1.0</td>\n",
       "      <td>1.0</td>\n",
       "    </tr>\n",
       "    <tr>\n",
       "      <th>1</th>\n",
       "      <td>aardsda01</td>\n",
       "      <td>1981.0</td>\n",
       "      <td>12.0</td>\n",
       "      <td>27.0</td>\n",
       "      <td>USA</td>\n",
       "      <td>CO</td>\n",
       "      <td>Denver</td>\n",
       "      <td>NaN</td>\n",
       "      <td>NaN</td>\n",
       "      <td>NaN</td>\n",
       "      <td>...</td>\n",
       "      <td>0.0</td>\n",
       "      <td>1.0</td>\n",
       "      <td>1.0</td>\n",
       "      <td>0</td>\n",
       "      <td>225.0</td>\n",
       "      <td>9.0</td>\n",
       "      <td>25</td>\n",
       "      <td>1.0</td>\n",
       "      <td>3.0</td>\n",
       "      <td>2.0</td>\n",
       "    </tr>\n",
       "    <tr>\n",
       "      <th>2</th>\n",
       "      <td>aardsda01</td>\n",
       "      <td>1981.0</td>\n",
       "      <td>12.0</td>\n",
       "      <td>27.0</td>\n",
       "      <td>USA</td>\n",
       "      <td>CO</td>\n",
       "      <td>Denver</td>\n",
       "      <td>NaN</td>\n",
       "      <td>NaN</td>\n",
       "      <td>NaN</td>\n",
       "      <td>...</td>\n",
       "      <td>3.0</td>\n",
       "      <td>2.0</td>\n",
       "      <td>1.0</td>\n",
       "      <td>0</td>\n",
       "      <td>151.0</td>\n",
       "      <td>7.0</td>\n",
       "      <td>24</td>\n",
       "      <td>2.0</td>\n",
       "      <td>1.0</td>\n",
       "      <td>1.0</td>\n",
       "    </tr>\n",
       "    <tr>\n",
       "      <th>3</th>\n",
       "      <td>aardsda01</td>\n",
       "      <td>1981.0</td>\n",
       "      <td>12.0</td>\n",
       "      <td>27.0</td>\n",
       "      <td>USA</td>\n",
       "      <td>CO</td>\n",
       "      <td>Denver</td>\n",
       "      <td>NaN</td>\n",
       "      <td>NaN</td>\n",
       "      <td>NaN</td>\n",
       "      <td>...</td>\n",
       "      <td>2.0</td>\n",
       "      <td>3.0</td>\n",
       "      <td>5.0</td>\n",
       "      <td>0</td>\n",
       "      <td>228.0</td>\n",
       "      <td>7.0</td>\n",
       "      <td>32</td>\n",
       "      <td>3.0</td>\n",
       "      <td>2.0</td>\n",
       "      <td>4.0</td>\n",
       "    </tr>\n",
       "    <tr>\n",
       "      <th>4</th>\n",
       "      <td>aardsda01</td>\n",
       "      <td>1981.0</td>\n",
       "      <td>12.0</td>\n",
       "      <td>27.0</td>\n",
       "      <td>USA</td>\n",
       "      <td>CO</td>\n",
       "      <td>Denver</td>\n",
       "      <td>NaN</td>\n",
       "      <td>NaN</td>\n",
       "      <td>NaN</td>\n",
       "      <td>...</td>\n",
       "      <td>3.0</td>\n",
       "      <td>2.0</td>\n",
       "      <td>0.0</td>\n",
       "      <td>0</td>\n",
       "      <td>296.0</td>\n",
       "      <td>53.0</td>\n",
       "      <td>23</td>\n",
       "      <td>2.0</td>\n",
       "      <td>1.0</td>\n",
       "      <td>2.0</td>\n",
       "    </tr>\n",
       "  </tbody>\n",
       "</table>\n",
       "<p>5 rows × 53 columns</p>\n",
       "</div>"
      ],
      "text/plain": [
       "    playerID  birthYear  birthMonth  birthDay birthCountry birthState  \\\n",
       "0  aardsda01     1981.0        12.0      27.0          USA         CO   \n",
       "1  aardsda01     1981.0        12.0      27.0          USA         CO   \n",
       "2  aardsda01     1981.0        12.0      27.0          USA         CO   \n",
       "3  aardsda01     1981.0        12.0      27.0          USA         CO   \n",
       "4  aardsda01     1981.0        12.0      27.0          USA         CO   \n",
       "\n",
       "  birthCity  deathYear  deathMonth  deathDay ...   IBB   WP  HBP BK    BFP  \\\n",
       "0    Denver        NaN         NaN       NaN ...   0.0  0.0  2.0  0   61.0   \n",
       "1    Denver        NaN         NaN       NaN ...   0.0  1.0  1.0  0  225.0   \n",
       "2    Denver        NaN         NaN       NaN ...   3.0  2.0  1.0  0  151.0   \n",
       "3    Denver        NaN         NaN       NaN ...   2.0  3.0  5.0  0  228.0   \n",
       "4    Denver        NaN         NaN       NaN ...   3.0  2.0  0.0  0  296.0   \n",
       "\n",
       "     GF   R   SH   SF GIDP  \n",
       "0   5.0   8  0.0  1.0  1.0  \n",
       "1   9.0  25  1.0  3.0  2.0  \n",
       "2   7.0  24  2.0  1.0  1.0  \n",
       "3   7.0  32  3.0  2.0  4.0  \n",
       "4  53.0  23  2.0  1.0  2.0  \n",
       "\n",
       "[5 rows x 53 columns]"
      ]
     },
     "execution_count": 146,
     "metadata": {},
     "output_type": "execute_result"
    }
   ],
   "source": [
    "# Let's explore this data:\n",
    "pitching_stats.head()"
   ]
  },
  {
   "cell_type": "code",
   "execution_count": 147,
   "metadata": {
    "collapsed": false
   },
   "outputs": [
    {
     "name": "stdout",
     "output_type": "stream",
     "text": [
      "Descriptive stats for hits:\n",
      "count    44963.000000\n",
      "mean        84.912439\n",
      "std         84.589269\n",
      "min          0.000000\n",
      "25%         18.000000\n",
      "50%         55.000000\n",
      "75%        134.000000\n",
      "max        772.000000\n",
      "Name: H, dtype: float64\n",
      "Descriptive stats for home runs:\n",
      "count    44963.000000\n",
      "mean         6.434201\n",
      "std          6.988237\n",
      "min          0.000000\n",
      "25%          1.000000\n",
      "50%          4.000000\n",
      "75%          9.000000\n",
      "max         50.000000\n",
      "Name: HR, dtype: float64\n"
     ]
    }
   ],
   "source": [
    "print \"Descriptive stats for hits:\"\n",
    "print pitching_stats.H.describe()\n",
    "print \"Descriptive stats for home runs:\"\n",
    "print pitching_stats.HR.describe()"
   ]
  },
  {
   "cell_type": "code",
   "execution_count": 148,
   "metadata": {
    "collapsed": false
   },
   "outputs": [
    {
     "data": {
      "text/plain": [
       "[<matplotlib.text.Text at 0x12d82240>, <matplotlib.text.Text at 0xf406630>]"
      ]
     },
     "execution_count": 148,
     "metadata": {},
     "output_type": "execute_result"
    },
    {
     "data": {
      "image/png": "[encoded data removed]",
      "text/plain": [
       "<matplotlib.figure.Figure at 0x1d60e828>"
      ]
     },
     "metadata": {},
     "output_type": "display_data"
    }
   ],
   "source": [
    "# Box plot for Strike outs:\n",
    "fig = sns.boxplot(pitching_stats.SO.dropna())\n",
    "fig.set(xlabel = 'Number of Strike Outs', title = 'Box Plot for Strike Outs')"
   ]
  },
  {
   "cell_type": "code",
   "execution_count": 149,
   "metadata": {
    "collapsed": false
   },
   "outputs": [
    {
     "data": {
      "text/plain": [
       "count    44963.000000\n",
       "mean        46.500856\n",
       "std         49.345046\n",
       "min          0.000000\n",
       "25%          8.000000\n",
       "50%         31.000000\n",
       "75%         68.000000\n",
       "max        513.000000\n",
       "Name: SO, dtype: float64"
      ]
     },
     "execution_count": 149,
     "metadata": {},
     "output_type": "execute_result"
    }
   ],
   "source": [
    "pitching_stats.SO.describe()"
   ]
  },
  {
   "cell_type": "markdown",
   "metadata": {},
   "source": [
    "Description: The above box plot shows that this is a positively skewed distribution with quite a few outliers. "
   ]
  },
  {
   "cell_type": "code",
   "execution_count": 150,
   "metadata": {
    "collapsed": false
   },
   "outputs": [
    {
     "name": "stdout",
     "output_type": "stream",
     "text": [
      "<class 'pandas.core.frame.DataFrame'>\n",
      "Int64Index: 44963 entries, 0 to 44962\n",
      "Data columns (total 53 columns):\n",
      "playerID        44963 non-null object\n",
      "birthYear       44928 non-null float64\n",
      "birthMonth      44841 non-null float64\n",
      "birthDay        44726 non-null float64\n",
      "birthCountry    44947 non-null object\n",
      "birthState      43959 non-null object\n",
      "birthCity       44847 non-null object\n",
      "deathYear       17690 non-null float64\n",
      "deathMonth      17690 non-null float64\n",
      "deathDay        17690 non-null float64\n",
      "deathCountry    17681 non-null object\n",
      "deathState      17631 non-null object\n",
      "deathCity       17676 non-null object\n",
      "nameFirst       44957 non-null object\n",
      "nameLast        44963 non-null object\n",
      "nameGiven       44957 non-null object\n",
      "weight          44514 non-null float64\n",
      "height          44574 non-null float64\n",
      "bats            44242 non-null object\n",
      "throws          44625 non-null object\n",
      "debut           44961 non-null object\n",
      "finalGame       44961 non-null object\n",
      "retroID         44963 non-null object\n",
      "bbrefID         44963 non-null object\n",
      "yearID          44963 non-null int64\n",
      "stint           44963 non-null int64\n",
      "teamID          44963 non-null object\n",
      "lgID            44832 non-null object\n",
      "W               44963 non-null int64\n",
      "L               44963 non-null int64\n",
      "G               44963 non-null int64\n",
      "GS              44963 non-null int64\n",
      "CG              44963 non-null int64\n",
      "SHO             44963 non-null int64\n",
      "SV              44963 non-null int64\n",
      "IPouts          44963 non-null int64\n",
      "H               44963 non-null int64\n",
      "ER              44963 non-null int64\n",
      "HR              44963 non-null int64\n",
      "BB              44963 non-null int64\n",
      "SO              44963 non-null int64\n",
      "BAOpp           43437 non-null float64\n",
      "ERA             44874 non-null float64\n",
      "IBB             30388 non-null float64\n",
      "WP              44830 non-null float64\n",
      "HBP             44405 non-null float64\n",
      "BK              44963 non-null int64\n",
      "BFP             44724 non-null float64\n",
      "GF              44830 non-null float64\n",
      "R               44963 non-null int64\n",
      "SH              12063 non-null float64\n",
      "SF              12063 non-null float64\n",
      "GIDP            12061 non-null float64\n",
      "dtypes: float64(18), int64(17), object(18)\n",
      "memory usage: 18.5+ MB\n"
     ]
    }
   ],
   "source": [
    "# To check which columns are missing values:\n",
    "pitching_stats.info()"
   ]
  },
  {
   "cell_type": "markdown",
   "metadata": {},
   "source": [
    "Same as in the analysis above, we see that there are many columns with missing values. Thus, I will extract the columns I require in my analysis into a new dataframe \"pitching_stats_filtered\" so that I can handle missing values of data that I require for my analysis."
   ]
  },
  {
   "cell_type": "code",
   "execution_count": 151,
   "metadata": {
    "collapsed": false
   },
   "outputs": [
    {
     "name": "stdout",
     "output_type": "stream",
     "text": [
      "<class 'pandas.core.frame.DataFrame'>\n",
      "Int64Index: 44963 entries, 0 to 44962\n",
      "Data columns (total 4 columns):\n",
      "throws    44625 non-null object\n",
      "H         44963 non-null int64\n",
      "SO        44963 non-null int64\n",
      "HR        44963 non-null int64\n",
      "dtypes: int64(3), object(1)\n",
      "memory usage: 1.7+ MB\n"
     ]
    }
   ],
   "source": [
    "pitching_stats_filtered = pitching_stats[['throws', 'H', 'SO', 'HR']]\n",
    "pitching_stats_filtered.info()"
   ]
  },
  {
   "cell_type": "markdown",
   "metadata": {},
   "source": [
    "We can see that the player's throwing hand column has a few missing values."
   ]
  },
  {
   "cell_type": "code",
   "execution_count": 152,
   "metadata": {
    "collapsed": false
   },
   "outputs": [
    {
     "data": {
      "text/plain": [
       "array(['R', 'L', nan, 'S'], dtype=object)"
      ]
     },
     "execution_count": 152,
     "metadata": {},
     "output_type": "execute_result"
    }
   ],
   "source": [
    "pitching_stats['throws'].unique()\n",
    "# To see what are the values of player's throwing hands in our data:"
   ]
  },
  {
   "cell_type": "markdown",
   "metadata": {},
   "source": [
    "Filling up nan's with either R/L would not be the right approach as it is impossible to predict what that particular player's throwing hand is. So, I will drop these particular entries instead. Also, I will filter out the entries with the value 'S'"
   ]
  },
  {
   "cell_type": "code",
   "execution_count": 153,
   "metadata": {
    "collapsed": false
   },
   "outputs": [
    {
     "name": "stderr",
     "output_type": "stream",
     "text": [
      "C:\\Users\\chait\\Anaconda3\\envs\\DAND\\lib\\site-packages\\ipykernel\\__main__.py:2: SettingWithCopyWarning: \n",
      "A value is trying to be set on a copy of a slice from a DataFrame\n",
      "\n",
      "See the caveats in the documentation: http://pandas.pydata.org/pandas-docs/stable/indexing.html#indexing-view-versus-copy\n",
      "  from ipykernel import kernelapp as app\n"
     ]
    },
    {
     "data": {
      "text/plain": [
       "array(['R', 'L'], dtype=object)"
      ]
     },
     "execution_count": 153,
     "metadata": {},
     "output_type": "execute_result"
    }
   ],
   "source": [
    "pitching_stats_cleaned = pitching_stats[pitching_stats.throws != 'S']\n",
    "pitching_stats_cleaned.dropna(inplace=True)\n",
    "pitching_stats_cleaned['throws'].unique()"
   ]
  },
  {
   "cell_type": "code",
   "execution_count": 154,
   "metadata": {
    "collapsed": false
   },
   "outputs": [
    {
     "data": {
      "text/plain": [
       "<matplotlib.legend.Legend at 0xf36d208>"
      ]
     },
     "execution_count": 154,
     "metadata": {},
     "output_type": "execute_result"
    },
    {
     "data": {
      "image/png": "[encoded data removed]",
      "text/plain": [
       "<matplotlib.figure.Figure at 0x13520e48>"
      ]
     },
     "metadata": {},
     "output_type": "display_data"
    }
   ],
   "source": [
    "grouped_by_throwing_hand = pitching_stats_cleaned.groupby('throws')\n",
    "x_pos = np.arange(len(grouped_by_throwing_hand['throws']))\n",
    "w = 0.2\n",
    "# width of the bars in my bar chart\n",
    "plt.bar(x_pos, grouped_by_throwing_hand.mean()['H'], label='Hits', color = 'red', width = w, align = 'center')\n",
    "plt.bar(x_pos+w, grouped_by_throwing_hand.mean()['SO'], label='StrikeOuts', color = 'blue', width = w, align = 'center')\n",
    "plt.bar(x_pos+(w*2), grouped_by_throwing_hand.mean()['HR'], label='Home Runs', color = 'green', width = w, align = 'center')\n",
    "plt.xticks(x_pos, [ind for ind, grp in grouped_by_throwing_hand['throws']])\n",
    "plt.xlabel(\"Player's Throwing Hand\")\n",
    "plt.ylabel(\"Mean values\")\n",
    "plt.legend(loc=\"upper left\", bbox_to_anchor=(1,1))"
   ]
  },
  {
   "cell_type": "markdown",
   "metadata": {},
   "source": [
    "From the above bar chart, we can observe that:\n",
    "1. The mean values for home runs are almost the same for both players throwing with left and right.\n",
    "2. The mean value of Strikeouts is more for right handed throwers that left handed throwers where as the mean value of hits is more for left handed throwers.\n",
    "3. Thus, we see that the player's throwing hand has an affect on the hits and Strikeouts but not on home runs."
   ]
  },
  {
   "cell_type": "markdown",
   "metadata": {},
   "source": [
    "Limitations for Analysis 2 & 3: \n",
    "1. I have assumed that the player's performance is measured in terms of Mean Hits, Runs and Home runs scored (in analysis 2) and mean Hits, Homeruns allowed and Strikeouts (in analysis 3). However, we can choose any other variable to measure performance which may lead to different results.\n",
    "2. I have found a correlation between player's batting and throwing hands and the above mentioned variables. This does not imply causation i.e, this does not show that left / right handed players are better performers."
   ]
  },
  {
   "cell_type": "markdown",
   "metadata": {},
   "source": [
    "### Analysis 4:\n",
    "Question: Does the win-to-loss ratio for a manager have an affect on the the number of times a manager has won the BBWAA award?"
   ]
  },
  {
   "cell_type": "code",
   "execution_count": 155,
   "metadata": {
    "collapsed": false
   },
   "outputs": [],
   "source": [
    "manager_awards_df = pd.read_csv(\"AwardsManagers.csv\")\n",
    "manager_awards_BBWAA = manager_awards_df.query('awardID == \"BBWAA Manager of the Year\"')\n",
    "grouped_awards_manager = manager_awards_BBWAA.groupby('playerID', as_index=False).mean()\n",
    "playerID_list = manager_awards_BBWAA['playerID']\n",
    "# list of player IDs of managers who won the \"BBWAA Manager of the Year\" award"
   ]
  },
  {
   "cell_type": "code",
   "execution_count": 156,
   "metadata": {
    "collapsed": true
   },
   "outputs": [],
   "source": [
    "managers_df = pd.read_csv(\"Managers.csv\")\n",
    "managers_df_Filtered = managers_df[managers_df.playerID.isin(playerID_list)]\n",
    "# keep only in the manager_df who won the \"BBWAA Manager of the Year\" award\n",
    "grouped_managers = managers_df_Filtered.groupby('playerID', as_index=False).mean()\n",
    "manager_stats = grouped_awards_manager.merge(grouped_managers, on='playerID', how='inner')[['playerID', 'G', 'W', 'L']]\n",
    "manager_stats['Win_Loss_Ratio'] = pd.Series(manager_stats.W/manager_stats.L)\n",
    "# Calculate win-loss-ratio for each manager and append it to the dataframe- manager_stats"
   ]
  },
  {
   "cell_type": "code",
   "execution_count": 157,
   "metadata": {
    "collapsed": false
   },
   "outputs": [
    {
     "data": {
      "text/html": [
       "<div>\n",
       "<table border=\"1\" class=\"dataframe\">\n",
       "  <thead>\n",
       "    <tr style=\"text-align: right;\">\n",
       "      <th></th>\n",
       "      <th>playerID</th>\n",
       "      <th>G</th>\n",
       "      <th>W</th>\n",
       "      <th>L</th>\n",
       "      <th>Win_Loss_Ratio</th>\n",
       "    </tr>\n",
       "  </thead>\n",
       "  <tbody>\n",
       "    <tr>\n",
       "      <th>0</th>\n",
       "      <td>aloufe01</td>\n",
       "      <td>146.714286</td>\n",
       "      <td>73.785714</td>\n",
       "      <td>72.928571</td>\n",
       "      <td>1.011753</td>\n",
       "    </tr>\n",
       "    <tr>\n",
       "      <th>1</th>\n",
       "      <td>andersp01</td>\n",
       "      <td>155.000000</td>\n",
       "      <td>84.384615</td>\n",
       "      <td>70.538462</td>\n",
       "      <td>1.196292</td>\n",
       "    </tr>\n",
       "    <tr>\n",
       "      <th>2</th>\n",
       "      <td>bakerdu01</td>\n",
       "      <td>158.952381</td>\n",
       "      <td>84.095238</td>\n",
       "      <td>74.809524</td>\n",
       "      <td>1.124125</td>\n",
       "    </tr>\n",
       "    <tr>\n",
       "      <th>3</th>\n",
       "      <td>banisje01</td>\n",
       "      <td>162.000000</td>\n",
       "      <td>91.500000</td>\n",
       "      <td>70.500000</td>\n",
       "      <td>1.297872</td>\n",
       "    </tr>\n",
       "    <tr>\n",
       "      <th>4</th>\n",
       "      <td>baylodo01</td>\n",
       "      <td>146.333333</td>\n",
       "      <td>69.666667</td>\n",
       "      <td>76.555556</td>\n",
       "      <td>0.910015</td>\n",
       "    </tr>\n",
       "  </tbody>\n",
       "</table>\n",
       "</div>"
      ],
      "text/plain": [
       "    playerID           G          W          L  Win_Loss_Ratio\n",
       "0   aloufe01  146.714286  73.785714  72.928571        1.011753\n",
       "1  andersp01  155.000000  84.384615  70.538462        1.196292\n",
       "2  bakerdu01  158.952381  84.095238  74.809524        1.124125\n",
       "3  banisje01  162.000000  91.500000  70.500000        1.297872\n",
       "4  baylodo01  146.333333  69.666667  76.555556        0.910015"
      ]
     },
     "execution_count": 157,
     "metadata": {},
     "output_type": "execute_result"
    }
   ],
   "source": [
    "# Let's explore this data:\n",
    "manager_stats.head()"
   ]
  },
  {
   "cell_type": "code",
   "execution_count": 158,
   "metadata": {
    "collapsed": false
   },
   "outputs": [
    {
     "data": {
      "text/plain": [
       "<matplotlib.text.Text at 0xf1e9ba8>"
      ]
     },
     "execution_count": 158,
     "metadata": {},
     "output_type": "execute_result"
    },
    {
     "data": {
      "image/png": "[encoded data removed]",
      "text/plain": [
       "<matplotlib.figure.Figure at 0x11926da0>"
      ]
     },
     "metadata": {},
     "output_type": "display_data"
    }
   ],
   "source": [
    "# Histogram of wins:\n",
    "plt.hist(manager_stats.W)\n",
    "plt.xlabel('Number of wins by managers')\n",
    "plt.ylabel('Frequency')\n",
    "plt.title('Histogram of number of wins by managers')"
   ]
  },
  {
   "cell_type": "code",
   "execution_count": 159,
   "metadata": {
    "collapsed": false
   },
   "outputs": [
    {
     "data": {
      "text/plain": [
       "count    45.000000\n",
       "mean     74.669635\n",
       "std      10.537407\n",
       "min      45.500000\n",
       "25%      69.666667\n",
       "50%      75.833333\n",
       "75%      81.318182\n",
       "max      91.500000\n",
       "Name: W, dtype: float64"
      ]
     },
     "execution_count": 159,
     "metadata": {},
     "output_type": "execute_result"
    }
   ],
   "source": [
    "manager_stats.W.describe()"
   ]
  },
  {
   "cell_type": "markdown",
   "metadata": {},
   "source": [
    "Description: The above histogram of number of wins by managers shows that this distribution is almost a normal distribution. Most of the managers have wins between 70 - 90."
   ]
  },
  {
   "cell_type": "code",
   "execution_count": 160,
   "metadata": {
    "collapsed": false
   },
   "outputs": [
    {
     "data": {
      "text/plain": [
       "<matplotlib.text.Text at 0xf2a1eb8>"
      ]
     },
     "execution_count": 160,
     "metadata": {},
     "output_type": "execute_result"
    },
    {
     "data": {
      "image/png": "[encoded data removed]",
      "text/plain": [
       "<matplotlib.figure.Figure at 0xf1f74a8>"
      ]
     },
     "metadata": {},
     "output_type": "display_data"
    }
   ],
   "source": [
    "# Histogram of losses:\n",
    "plt.hist(manager_stats.L)\n",
    "plt.xlabel('Number of losses by managers')\n",
    "plt.ylabel('Frequency')\n",
    "plt.title('Histogram of number of losses by managers')"
   ]
  },
  {
   "cell_type": "code",
   "execution_count": 161,
   "metadata": {
    "collapsed": false
   },
   "outputs": [
    {
     "data": {
      "text/plain": [
       "count    45.000000\n",
       "mean     70.534938\n",
       "std       8.736079\n",
       "min      36.000000\n",
       "25%      67.818182\n",
       "50%      72.500000\n",
       "75%      76.000000\n",
       "max      84.600000\n",
       "Name: L, dtype: float64"
      ]
     },
     "execution_count": 161,
     "metadata": {},
     "output_type": "execute_result"
    }
   ],
   "source": [
    "manager_stats.L.describe()"
   ]
  },
  {
   "cell_type": "markdown",
   "metadata": {},
   "source": [
    "Description: The above histogram of number of losses by managers shows that this distribution is negatively skewed."
   ]
  },
  {
   "cell_type": "code",
   "execution_count": 162,
   "metadata": {
    "collapsed": false
   },
   "outputs": [
    {
     "name": "stdout",
     "output_type": "stream",
     "text": [
      "<class 'pandas.core.frame.DataFrame'>\n",
      "Int64Index: 45 entries, 0 to 44\n",
      "Data columns (total 5 columns):\n",
      "playerID          45 non-null object\n",
      "G                 45 non-null float64\n",
      "W                 45 non-null float64\n",
      "L                 45 non-null float64\n",
      "Win_Loss_Ratio    45 non-null float64\n",
      "dtypes: float64(4), object(1)\n",
      "memory usage: 2.1+ KB\n"
     ]
    }
   ],
   "source": [
    "# To check if there are any null values in the dataframe:\n",
    "manager_stats.info()"
   ]
  },
  {
   "cell_type": "markdown",
   "metadata": {},
   "source": [
    "As I have already filtered out our data, we see that there are no null values in the filtered dataframe."
   ]
  },
  {
   "cell_type": "code",
   "execution_count": 163,
   "metadata": {
    "collapsed": false
   },
   "outputs": [
    {
     "data": {
      "text/plain": [
       "<matplotlib.text.Text at 0xf703cf8>"
      ]
     },
     "execution_count": 163,
     "metadata": {},
     "output_type": "execute_result"
    },
    {
     "data": {
      "image/png": "[encoded data removed]",
      "text/plain": [
       "<matplotlib.figure.Figure at 0xf7419b0>"
      ]
     },
     "metadata": {},
     "output_type": "display_data"
    }
   ],
   "source": [
    "number_of_awards = manager_awards_BBWAA.groupby('playerID').size()\n",
    "# number of \"BBWAA Manager of the Year\" awards won by each manager\n",
    "number_of_awards = number_of_awards.reset_index(drop=True)\n",
    "manager_stats['num_awards'] = number_of_awards\n",
    "# Scatter Plot: number of \"BBWAA Manager of the Year\" awards won vs win-to-loss ratio\n",
    "plt.scatter(manager_stats['num_awards'], manager_stats['Win_Loss_Ratio'])\n",
    "plt.title(\"number of awards won vs win-to-loss ratio\")\n",
    "plt.xlabel(\"Number of awards won\")\n",
    "plt.xticks([1,2,3,4])\n",
    "plt.ylabel(\"Win-Loss ratio\")"
   ]
  },
  {
   "cell_type": "markdown",
   "metadata": {},
   "source": [
    "From the above Scatter Plot, we can observe the following:\n",
    "1. The maximum number of \"BBWAA Manager of the Year\" awards won by a manager is 4 and two managers have been able to win it 4 times.\n",
    "2. Managers who managed to win the award more than once have a win-loss ratio more than 1.0"
   ]
  },
  {
   "cell_type": "code",
   "execution_count": 164,
   "metadata": {
    "collapsed": false
   },
   "outputs": [
    {
     "name": "stdout",
     "output_type": "stream",
     "text": [
      "num_awards\n",
      "1    1.031463\n",
      "2    1.141994\n",
      "3    1.083602\n",
      "4    1.202431\n",
      "Name: Win_Loss_Ratio, dtype: float64\n"
     ]
    }
   ],
   "source": [
    "# To calculate the mean win-loss ratio for each number of awards won \n",
    "grouped_by_number_of_awards = manager_stats.groupby('num_awards').mean()['Win_Loss_Ratio']\n",
    "print grouped_by_number_of_awards"
   ]
  },
  {
   "cell_type": "markdown",
   "metadata": {},
   "source": [
    "Above, we can see that the highest mean win-loss ratio is for the managers who won the award 4 times. But, it does not show that as win-loss ratio increases, the number of awards won will increase."
   ]
  },
  {
   "cell_type": "markdown",
   "metadata": {
    "collapsed": true
   },
   "source": [
    "Limitations: I am looking at the correlation between win-loss ratio and the number of times a manager wins the \"BBWAA Manager of the Year\" award. This does not imply causation.\n"
   ]
  },
  {
   "cell_type": "markdown",
   "metadata": {},
   "source": [
    "__Conclusion:__\n",
    "In this project I have analyzed the performance of teams, players and managers by selecting a few variables and seeing the correlation between them. The process I followed was: to load the data, explore its contents, analyze the data with visualizations and find correlations between variables. Some of the variables were strongly correlated, meaning that it had a noticable affect on the performance of the team/player/manager, but it does not imply causation. Some variables were not so strongly correlated. "
   ]
  }
 ],
 "metadata": {
  "anaconda-cloud": {},
  "kernelspec": {
   "display_name": "Python [conda env:DAND]",
   "language": "python",
   "name": "conda-env-DAND-py"
  },
  "language_info": {
   "codemirror_mode": {
    "name": "ipython",
    "version": 2
   },
   "file_extension": ".py",
   "mimetype": "text/x-python",
   "name": "python",
   "nbconvert_exporter": "python",
   "pygments_lexer": "ipython2",
   "version": "2.7.12"
  }
 },
 "nbformat": 4,
 "nbformat_minor": 2
}
